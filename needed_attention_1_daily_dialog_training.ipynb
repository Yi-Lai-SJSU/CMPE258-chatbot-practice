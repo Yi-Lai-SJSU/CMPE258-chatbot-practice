{
  "nbformat": 4,
  "nbformat_minor": 0,
  "metadata": {
    "colab": {
      "name": "needed-attention-1-daily-dialog-training.ipynb",
      "provenance": [],
      "machine_shape": "hm"
    },
    "kernelspec": {
      "name": "python3",
      "display_name": "Python 3"
    },
    "accelerator": "GPU"
  },
  "cells": [
    {
      "cell_type": "code",
      "metadata": {
        "id": "VCGro1wvc4Jk",
        "colab_type": "code",
        "outputId": "0c958ec4-836b-402e-9c01-52c8546ff82a",
        "colab": {
          "base_uri": "https://localhost:8080/",
          "height": 306
        }
      },
      "source": [
        "gpu_info = !nvidia-smi\n",
        "gpu_info = '\\n'.join(gpu_info)\n",
        "if gpu_info.find('failed') >= 0:\n",
        "  print('Select the Runtime → \"Change runtime type\" menu to enable a GPU accelerator, ')\n",
        "  print('and then re-execute this cell.')\n",
        "else:\n",
        "  print(gpu_info)"
      ],
      "execution_count": 1,
      "outputs": [
        {
          "output_type": "stream",
          "text": [
            "Thu May  7 07:09:17 2020       \n",
            "+-----------------------------------------------------------------------------+\n",
            "| NVIDIA-SMI 440.82       Driver Version: 418.67       CUDA Version: 10.1     |\n",
            "|-------------------------------+----------------------+----------------------+\n",
            "| GPU  Name        Persistence-M| Bus-Id        Disp.A | Volatile Uncorr. ECC |\n",
            "| Fan  Temp  Perf  Pwr:Usage/Cap|         Memory-Usage | GPU-Util  Compute M. |\n",
            "|===============================+======================+======================|\n",
            "|   0  Tesla P100-PCIE...  Off  | 00000000:00:04.0 Off |                    0 |\n",
            "| N/A   55C    P0    31W / 250W |      0MiB / 16280MiB |      0%      Default |\n",
            "+-------------------------------+----------------------+----------------------+\n",
            "                                                                               \n",
            "+-----------------------------------------------------------------------------+\n",
            "| Processes:                                                       GPU Memory |\n",
            "|  GPU       PID   Type   Process name                             Usage      |\n",
            "|=============================================================================|\n",
            "|  No running processes found                                                 |\n",
            "+-----------------------------------------------------------------------------+\n"
          ],
          "name": "stdout"
        }
      ]
    },
    {
      "cell_type": "code",
      "metadata": {
        "id": "jgnI8Wt5dFj8",
        "colab_type": "code",
        "outputId": "ce3167e9-d816-4ff2-a451-9e7b33d3b34f",
        "colab": {
          "base_uri": "https://localhost:8080/",
          "height": 68
        }
      },
      "source": [
        "from psutil import virtual_memory\n",
        "ram_gb = virtual_memory().total / 1e9\n",
        "print('Your runtime has {:.1f} gigabytes of available RAM\\n'.format(ram_gb))\n",
        "\n",
        "if ram_gb < 20:\n",
        "  print('To enable a high-RAM runtime, select the Runtime → \"Change runtime type\"')\n",
        "  print('menu, and then select High-RAM in the Runtime shape dropdown. Then, ')\n",
        "  print('re-execute this cell.')\n",
        "else:\n",
        "  print('You are using a high-RAM runtime!')"
      ],
      "execution_count": 2,
      "outputs": [
        {
          "output_type": "stream",
          "text": [
            "Your runtime has 27.4 gigabytes of available RAM\n",
            "\n",
            "You are using a high-RAM runtime!\n"
          ],
          "name": "stdout"
        }
      ]
    },
    {
      "cell_type": "code",
      "metadata": {
        "id": "d6vt4grrdFmy",
        "colab_type": "code",
        "outputId": "b1f46dbe-02b2-4629-9ed5-cee645850356",
        "colab": {
          "base_uri": "https://localhost:8080/",
          "height": 122
        }
      },
      "source": [
        "from google.colab import drive\n",
        "drive.mount(\"/content/gdrive\", force_remount=True)"
      ],
      "execution_count": 3,
      "outputs": [
        {
          "output_type": "stream",
          "text": [
            "Go to this URL in a browser: https://accounts.google.com/o/oauth2/auth?client_id=947318989803-6bn6qk8qdgf4n4g3pfee6491hc0brc4i.apps.googleusercontent.com&redirect_uri=urn%3aietf%3awg%3aoauth%3a2.0%3aoob&response_type=code&scope=email%20https%3a%2f%2fwww.googleapis.com%2fauth%2fdocs.test%20https%3a%2f%2fwww.googleapis.com%2fauth%2fdrive%20https%3a%2f%2fwww.googleapis.com%2fauth%2fdrive.photos.readonly%20https%3a%2f%2fwww.googleapis.com%2fauth%2fpeopleapi.readonly\n",
            "\n",
            "Enter your authorization code:\n",
            "··········\n",
            "Mounted at /content/gdrive\n"
          ],
          "name": "stdout"
        }
      ]
    },
    {
      "cell_type": "code",
      "metadata": {
        "id": "--T9YHzRHC-g",
        "colab_type": "code",
        "colab": {}
      },
      "source": [
        "# # !pip install tensorflow-gpu==2.0.0-alpha0\n",
        "# %tensorflow_version 2.x\n",
        "# !pip uninstall -y tensorflow\n",
        "# !pip install tensorflow-gpu==2.0.0-alpha0"
      ],
      "execution_count": 0,
      "outputs": []
    },
    {
      "cell_type": "code",
      "metadata": {
        "id": "QRxim72rdFph",
        "colab_type": "code",
        "colab": {}
      },
      "source": [
        "import tensorflow as tf\n",
        "import matplotlib.pyplot as plt\n",
        "import matplotlib.ticker as ticker\n",
        "from sklearn.model_selection import train_test_split\n",
        "import unicodedata\n",
        "import re\n",
        "import numpy as np\n",
        "import os\n",
        "import io\n",
        "import time\n",
        "import numpy as np\n",
        "import tensorflow as tf\n",
        "import re\n",
        "import time"
      ],
      "execution_count": 0,
      "outputs": []
    },
    {
      "cell_type": "code",
      "metadata": {
        "id": "VwVYuKdrdFsw",
        "colab_type": "code",
        "colab": {}
      },
      "source": [
        "path = '/content/gdrive/My Drive/Colab Notebooks/cmpe258/final-project/Version-v4/basic-seq2seq/'"
      ],
      "execution_count": 0,
      "outputs": []
    },
    {
      "cell_type": "code",
      "metadata": {
        "id": "QLYN27HVdFwa",
        "colab_type": "code",
        "colab": {}
      },
      "source": [
        "import os\n",
        "os.chdir(path)"
      ],
      "execution_count": 0,
      "outputs": []
    },
    {
      "cell_type": "code",
      "metadata": {
        "id": "mjJIxBrLpV9-",
        "colab_type": "code",
        "outputId": "6f4d44a5-e6ff-41a2-b0de-8ced815534ae",
        "colab": {
          "base_uri": "https://localhost:8080/",
          "height": 34
        }
      },
      "source": [
        "!pwd"
      ],
      "execution_count": 7,
      "outputs": [
        {
          "output_type": "stream",
          "text": [
            "/content/gdrive/My Drive/Colab Notebooks/cmpe258/final-project/Version-v4/basic-seq2seq\n"
          ],
          "name": "stdout"
        }
      ]
    },
    {
      "cell_type": "code",
      "metadata": {
        "id": "r0Raildxp8fu",
        "colab_type": "code",
        "colab": {}
      },
      "source": [
        "conversations = open('data/dialogues_text.txt', encoding = 'utf-8', errors = 'ignore').read().split('\\n')\n",
        "topics        = open('data/dialogues_topic.txt', encoding = 'utf-8', errors = 'ignore').read().split('\\n')"
      ],
      "execution_count": 0,
      "outputs": []
    },
    {
      "cell_type": "code",
      "metadata": {
        "id": "2UVDiyOZB7XD",
        "colab_type": "code",
        "outputId": "4ded5f85-4821-4bce-97f4-a720c4ea27dd",
        "colab": {
          "base_uri": "https://localhost:8080/",
          "height": 139
        }
      },
      "source": [
        "print(len(conversations))\n",
        "conversations[0:5]"
      ],
      "execution_count": 9,
      "outputs": [
        {
          "output_type": "stream",
          "text": [
            "13119\n"
          ],
          "name": "stdout"
        },
        {
          "output_type": "execute_result",
          "data": {
            "text/plain": [
              "[\"The kitchen stinks . __eou__ I'll throw out the garbage . __eou__\",\n",
              " 'So Dick , how about getting some coffee for tonight ? __eou__ Coffee ? I don ’ t honestly like that kind of stuff . __eou__ Come on , you can at least try a little , besides your cigarette . __eou__ What ’ s wrong with that ? Cigarette is the thing I go crazy for . __eou__ Not for me , Dick . __eou__',\n",
              " 'Are things still going badly with your houseguest ? __eou__ Getting worse . Now he ’ s eating me out of house and home . I ’ Ve tried talking to him but it all goes in one ear and out the other . He makes himself at home , which is fine . But what really gets me is that yesterday he walked into the living room in the raw and I had company over ! That was the last straw . __eou__ Leo , I really think you ’ re beating around the bush with this guy . I know he used to be your best friend in college , but I really think it ’ s time to lay down the law . __eou__ You ’ re right . Everything is probably going to come to a head tonight . I ’ ll keep you informed . __eou__',\n",
              " \"Would you mind waiting a while ? __eou__ Well , how long will it be ? __eou__ I'm not sure . But I'll get a table ready as fast as I can . __eou__ OK . We'll wait . __eou__\",\n",
              " \"Are you going to the annual party ? I can give you a ride if you need one . __eou__ Thanks a lot . That's the favor I was going to ask you for . __eou__ The pleasure is mine . __eou__\"]"
            ]
          },
          "metadata": {
            "tags": []
          },
          "execution_count": 9
        }
      ]
    },
    {
      "cell_type": "code",
      "metadata": {
        "id": "khhQSS5Qp8tx",
        "colab_type": "code",
        "colab": {}
      },
      "source": [
        "questions = []\n",
        "answers   = []\n",
        "for index in range(len(conversations)):\n",
        "  _lines = conversations[index].split('__eou__')\n",
        "  # print(_lines)\n",
        "  _lines_length = len(_lines)\n",
        "  for ind in range(_lines_length - 2):\n",
        "    questions.append(_lines[ind])\n",
        "    answers.append(_lines[ind + 1])"
      ],
      "execution_count": 0,
      "outputs": []
    },
    {
      "cell_type": "code",
      "metadata": {
        "id": "_diZ2P1zE793",
        "colab_type": "code",
        "outputId": "e4165223-4c7e-4a33-8736-52d3bc2846a4",
        "colab": {
          "base_uri": "https://localhost:8080/",
          "height": 207
        }
      },
      "source": [
        "questions[0:10]"
      ],
      "execution_count": 11,
      "outputs": [
        {
          "output_type": "execute_result",
          "data": {
            "text/plain": [
              "['The kitchen stinks . ',\n",
              " 'So Dick , how about getting some coffee for tonight ? ',\n",
              " ' Coffee ? I don ’ t honestly like that kind of stuff . ',\n",
              " ' Come on , you can at least try a little , besides your cigarette . ',\n",
              " ' What ’ s wrong with that ? Cigarette is the thing I go crazy for . ',\n",
              " 'Are things still going badly with your houseguest ? ',\n",
              " ' Getting worse . Now he ’ s eating me out of house and home . I ’ Ve tried talking to him but it all goes in one ear and out the other . He makes himself at home , which is fine . But what really gets me is that yesterday he walked into the living room in the raw and I had company over ! That was the last straw . ',\n",
              " ' Leo , I really think you ’ re beating around the bush with this guy . I know he used to be your best friend in college , but I really think it ’ s time to lay down the law . ',\n",
              " 'Would you mind waiting a while ? ',\n",
              " ' Well , how long will it be ? ']"
            ]
          },
          "metadata": {
            "tags": []
          },
          "execution_count": 11
        }
      ]
    },
    {
      "cell_type": "code",
      "metadata": {
        "id": "Wkr_li1bFAMK",
        "colab_type": "code",
        "outputId": "b860953c-25b2-4b8c-92e3-3ac570842f8e",
        "colab": {
          "base_uri": "https://localhost:8080/",
          "height": 207
        }
      },
      "source": [
        "answers[0:10]"
      ],
      "execution_count": 12,
      "outputs": [
        {
          "output_type": "execute_result",
          "data": {
            "text/plain": [
              "[\" I'll throw out the garbage . \",\n",
              " ' Coffee ? I don ’ t honestly like that kind of stuff . ',\n",
              " ' Come on , you can at least try a little , besides your cigarette . ',\n",
              " ' What ’ s wrong with that ? Cigarette is the thing I go crazy for . ',\n",
              " ' Not for me , Dick . ',\n",
              " ' Getting worse . Now he ’ s eating me out of house and home . I ’ Ve tried talking to him but it all goes in one ear and out the other . He makes himself at home , which is fine . But what really gets me is that yesterday he walked into the living room in the raw and I had company over ! That was the last straw . ',\n",
              " ' Leo , I really think you ’ re beating around the bush with this guy . I know he used to be your best friend in college , but I really think it ’ s time to lay down the law . ',\n",
              " ' You ’ re right . Everything is probably going to come to a head tonight . I ’ ll keep you informed . ',\n",
              " ' Well , how long will it be ? ',\n",
              " \" I'm not sure . But I'll get a table ready as fast as I can . \"]"
            ]
          },
          "metadata": {
            "tags": []
          },
          "execution_count": 12
        }
      ]
    },
    {
      "cell_type": "code",
      "metadata": {
        "id": "AhJmE_5bp8Wm",
        "colab_type": "code",
        "colab": {}
      },
      "source": [
        "def clean_text(text):\n",
        "    text = text.lower()\n",
        "    text = re.sub(r\"i'm\", \"i am\", text)\n",
        "    text = re.sub(r\"I ’ m\", \"i am\", text)\n",
        "    text = re.sub(r\"don’t\", \"do not\", text)\n",
        "    text = re.sub(r\"don ’ t\", \"do not\", text)\n",
        "    text = re.sub(r\"he's\", \"he is\", text)\n",
        "    text = re.sub(r\"he ' s\", \"he is\", text)\n",
        "    text = re.sub(r\"she's\", \"she is\", text)\n",
        "    text = re.sub(r\"she ' s\", \"she is\", text)\n",
        "    text = re.sub(r\"that's\", \"that is\", text)\n",
        "    text = re.sub(r\"that ' s\", \"that is\", text)\n",
        "    text = re.sub(r\"what's\", \"what is\", text)\n",
        "    text = re.sub(r\"what ' s\", \"what is\", text)\n",
        "    text = re.sub(r\"where's\", \"where is\", text)\n",
        "    text = re.sub(r\"where ' s\", \"where is\", text)\n",
        "    text = re.sub(r\"\\'ll\", \" will\", text)\n",
        "    text = re.sub(r\"\\' ll\", \" will\", text)\n",
        "    text = re.sub(r\"\\'ve\", \" have\", text)\n",
        "    text = re.sub(r\"\\' ve\", \" have\", text)\n",
        "    text = re.sub(r\"\\'re\", \" are\", text)\n",
        "    text = re.sub(r\"\\' re\", \" are\", text)\n",
        "    text = re.sub(r\"\\'d\", \" would\", text)\n",
        "    text = re.sub(r\"\\' d\", \" would\", text)\n",
        "    text = re.sub(r\"won't\", \"will not\", text)\n",
        "    text = re.sub(r\"can't\", \"cannot\", text)\n",
        "    text = re.sub(r\"[-()\\\"#/@;:<>{}+=~|.?,]\", \"\", text)\n",
        "    return text"
      ],
      "execution_count": 0,
      "outputs": []
    },
    {
      "cell_type": "code",
      "metadata": {
        "id": "JH2EZUA9p8R8",
        "colab_type": "code",
        "outputId": "d7f78051-c52d-4bf2-e552-0bab6b05578b",
        "colab": {
          "base_uri": "https://localhost:8080/",
          "height": 71
        }
      },
      "source": [
        "clean_questions = []\n",
        "for question in questions:\n",
        "    clean_questions.append(clean_text(question))\n",
        "print(clean_questions[0:5])\n",
        "print(len(clean_questions))"
      ],
      "execution_count": 14,
      "outputs": [
        {
          "output_type": "stream",
          "text": [
            "['the kitchen stinks  ', 'so dick  how about getting some coffee for tonight  ', ' coffee  i do not honestly like that kind of stuff  ', ' come on  you can at least try a little  besides your cigarette  ', ' what ’ s wrong with that  cigarette is the thing i go crazy for  ']\n",
            "89862\n"
          ],
          "name": "stdout"
        }
      ]
    },
    {
      "cell_type": "code",
      "metadata": {
        "id": "AUcbb4Hfp8Oz",
        "colab_type": "code",
        "outputId": "6a9f621e-8107-4383-e8ac-658cdacd41d0",
        "colab": {
          "base_uri": "https://localhost:8080/",
          "height": 71
        }
      },
      "source": [
        "clean_answers = []\n",
        "for answer in answers:\n",
        "    clean_answers.append(clean_text(answer))\n",
        "print(clean_answers[0:5])\n",
        "print(len(clean_answers))"
      ],
      "execution_count": 15,
      "outputs": [
        {
          "output_type": "stream",
          "text": [
            "[' i will throw out the garbage  ', ' coffee  i do not honestly like that kind of stuff  ', ' come on  you can at least try a little  besides your cigarette  ', ' what ’ s wrong with that  cigarette is the thing i go crazy for  ', ' not for me  dick  ']\n",
            "89862\n"
          ],
          "name": "stdout"
        }
      ]
    },
    {
      "cell_type": "code",
      "metadata": {
        "id": "-fhiS8DFqbSy",
        "colab_type": "code",
        "colab": {}
      },
      "source": [
        "# Converts the unicode file to ascii\n",
        "def unicode_to_ascii(s):\n",
        "  return ''.join(c for c in unicodedata.normalize('NFD', s)\n",
        "      if unicodedata.category(c) != 'Mn')\n",
        "\n",
        "def preprocess_sentence(w):\n",
        "  w = unicode_to_ascii(w.lower().strip())\n",
        "  # creating a space between a word and the punctuation following it\n",
        "  # eg: \"he is a boy.\" => \"he is a boy .\"\n",
        "  # Reference:- https://stackoverflow.com/questions/3645931/python-padding-punctuation-with-white-spaces-keeping-punctuation\n",
        "  w = re.sub(r\"([?.!,¿])\", r\" \\1 \", w)\n",
        "  w = re.sub(r'[\" \"]+', \" \", w)\n",
        "  # replacing everything with space except (a-z, A-Z, \".\", \"?\", \"!\", \",\")\n",
        "  w = re.sub(r\"[^a-zA-Z?.!,¿]+\", \" \", w)\n",
        "  w = w.strip()\n",
        "  # adding a start and an end token to the sentence\n",
        "  # so that the model know when to start and stop predicting.\n",
        "  w = '<start> ' + w + ' <end>'\n",
        "  return w"
      ],
      "execution_count": 0,
      "outputs": []
    },
    {
      "cell_type": "code",
      "metadata": {
        "id": "opLWbJEKqcMO",
        "colab_type": "code",
        "colab": {}
      },
      "source": [
        "def create_dataset(num_examples):\n",
        "  sentence_pairs = []\n",
        "  for index in range(num_examples):\n",
        "    sentence_pair = [(preprocess_sentence(clean_questions[index])),preprocess_sentence(clean_answers[index])]\n",
        "    sentence_pairs.append(sentence_pair)\n",
        "  return zip(*sentence_pairs)"
      ],
      "execution_count": 0,
      "outputs": []
    },
    {
      "cell_type": "code",
      "metadata": {
        "id": "gQUWlXk1q75V",
        "colab_type": "code",
        "colab": {}
      },
      "source": [
        "num_examples = 10000\n",
        "inp_lang, targ_lang = create_dataset(num_examples)"
      ],
      "execution_count": 0,
      "outputs": []
    },
    {
      "cell_type": "code",
      "metadata": {
        "id": "vC85YRikuSFk",
        "colab_type": "code",
        "colab": {}
      },
      "source": [
        "general_lang = inp_lang + targ_lang"
      ],
      "execution_count": 0,
      "outputs": []
    },
    {
      "cell_type": "code",
      "metadata": {
        "id": "VE45lTY1u8sY",
        "colab_type": "code",
        "outputId": "3265f2d8-34c8-47ae-f804-7613f75ce885",
        "colab": {
          "base_uri": "https://localhost:8080/",
          "height": 34
        }
      },
      "source": [
        "len(general_lang)"
      ],
      "execution_count": 20,
      "outputs": [
        {
          "output_type": "execute_result",
          "data": {
            "text/plain": [
              "20000"
            ]
          },
          "metadata": {
            "tags": []
          },
          "execution_count": 20
        }
      ]
    },
    {
      "cell_type": "code",
      "metadata": {
        "id": "TrulsQfEepcB",
        "colab_type": "code",
        "colab": {}
      },
      "source": [
        "def tokenize(inp_lang, targ_lang, general_lang):\n",
        "  lang_tokenizer = tf.keras.preprocessing.text.Tokenizer(filters='')\n",
        "  lang_tokenizer.fit_on_texts(general_lang)\n",
        "  input_tensor = lang_tokenizer.texts_to_sequences(inp_lang)\n",
        "  input_tensor = tf.keras.preprocessing.sequence.pad_sequences(input_tensor, padding='post')\n",
        "  target_tensor = lang_tokenizer.texts_to_sequences(targ_lang)\n",
        "  target_tensor = tf.keras.preprocessing.sequence.pad_sequences(target_tensor, padding='post')\n",
        "  return input_tensor, lang_tokenizer, target_tensor, lang_tokenizer"
      ],
      "execution_count": 0,
      "outputs": []
    },
    {
      "cell_type": "code",
      "metadata": {
        "id": "cFCGSOerfl4R",
        "colab_type": "code",
        "colab": {}
      },
      "source": [
        "def load_dataset():\n",
        "  input_tensor, inp_lang_tokenizer, target_tensor, targ_lang_tokenizer = tokenize(inp_lang, targ_lang, general_lang)\n",
        "  return input_tensor, target_tensor, inp_lang_tokenizer, targ_lang_tokenizer"
      ],
      "execution_count": 0,
      "outputs": []
    },
    {
      "cell_type": "code",
      "metadata": {
        "id": "BQLeNi4srABX",
        "colab_type": "code",
        "colab": {}
      },
      "source": [
        "# def tokenize(lang, general_lang):\n",
        "#   lang_tokenizer = tf.keras.preprocessing.text.Tokenizer(filters='')\n",
        "#   lang_tokenizer.fit_on_texts(general_lang)\n",
        "  \n",
        "#   tensor = lang_tokenizer.texts_to_sequences(lang)\n",
        "#   tensor = tf.keras.preprocessing.sequence.pad_sequences(tensor, padding='post')\n",
        "#   return tensor, lang_tokenizer"
      ],
      "execution_count": 0,
      "outputs": []
    },
    {
      "cell_type": "code",
      "metadata": {
        "id": "9yeoz46QrCDy",
        "colab_type": "code",
        "colab": {}
      },
      "source": [
        "# def load_dataset():\n",
        "#   input_tensor, inp_lang_tokenizer   = tokenize(inp_lang,  general_lang)\n",
        "#   target_tensor, targ_lang_tokenizer = tokenize(targ_lang, general_lang)\n",
        "#   return input_tensor, target_tensor, inp_lang_tokenizer, targ_lang_tokenizer"
      ],
      "execution_count": 0,
      "outputs": []
    },
    {
      "cell_type": "code",
      "metadata": {
        "id": "WIG-H5HVrD88",
        "colab_type": "code",
        "colab": {}
      },
      "source": [
        "input_tensor, target_tensor, inp_lang, targ_lang = load_dataset()"
      ],
      "execution_count": 0,
      "outputs": []
    },
    {
      "cell_type": "code",
      "metadata": {
        "id": "zdKV9LsHrF3K",
        "colab_type": "code",
        "colab": {}
      },
      "source": [
        "max_length_targ, max_length_inp = target_tensor.shape[1], input_tensor.shape[1]"
      ],
      "execution_count": 0,
      "outputs": []
    },
    {
      "cell_type": "code",
      "metadata": {
        "id": "k4twWEcHrHln",
        "colab_type": "code",
        "colab": {}
      },
      "source": [
        "# input_tensor_train, input_tensor_val, target_tensor_train, target_tensor_val = train_test_split(input_tensor, target_tensor, test_size=0.001)\n",
        "input_tensor_train  = input_tensor\n",
        "target_tensor_train = target_tensor"
      ],
      "execution_count": 0,
      "outputs": []
    },
    {
      "cell_type": "code",
      "metadata": {
        "id": "joWLae4trJv5",
        "colab_type": "code",
        "outputId": "ccabecca-b763-4741-db13-c79a74f4d98f",
        "colab": {
          "base_uri": "https://localhost:8080/",
          "height": 34
        }
      },
      "source": [
        "# print(len(input_tensor_train), len(target_tensor_train), len(input_tensor_val), len(target_tensor_val))\n",
        "print(len(input_tensor_train), len(target_tensor_train))"
      ],
      "execution_count": 27,
      "outputs": [
        {
          "output_type": "stream",
          "text": [
            "10000 10000\n"
          ],
          "name": "stdout"
        }
      ]
    },
    {
      "cell_type": "code",
      "metadata": {
        "id": "dh7p2U4dgNlG",
        "colab_type": "code",
        "colab": {}
      },
      "source": [
        "def id2word(lang):\n",
        "  for t in range(1, 10):\n",
        "    print (\"%d ----> %s\" % (t, lang.index_word[t]))"
      ],
      "execution_count": 0,
      "outputs": []
    },
    {
      "cell_type": "code",
      "metadata": {
        "id": "_3bJJgL8gXdi",
        "colab_type": "code",
        "outputId": "1a8e550f-a05f-49fe-fea2-894dea922bf1",
        "colab": {
          "base_uri": "https://localhost:8080/",
          "height": 170
        }
      },
      "source": [
        "id2word(inp_lang)"
      ],
      "execution_count": 29,
      "outputs": [
        {
          "output_type": "stream",
          "text": [
            "1 ----> <start>\n",
            "2 ----> <end>\n",
            "3 ----> i\n",
            "4 ----> you\n",
            "5 ----> the\n",
            "6 ----> it\n",
            "7 ----> a\n",
            "8 ----> to\n",
            "9 ----> is\n"
          ],
          "name": "stdout"
        }
      ]
    },
    {
      "cell_type": "code",
      "metadata": {
        "id": "C2dw9IIyjQhd",
        "colab_type": "code",
        "outputId": "df4828cf-537f-429d-fc42-7f767d69a175",
        "colab": {
          "base_uri": "https://localhost:8080/",
          "height": 170
        }
      },
      "source": [
        "id2word(targ_lang)"
      ],
      "execution_count": 30,
      "outputs": [
        {
          "output_type": "stream",
          "text": [
            "1 ----> <start>\n",
            "2 ----> <end>\n",
            "3 ----> i\n",
            "4 ----> you\n",
            "5 ----> the\n",
            "6 ----> it\n",
            "7 ----> a\n",
            "8 ----> to\n",
            "9 ----> is\n"
          ],
          "name": "stdout"
        }
      ]
    },
    {
      "cell_type": "code",
      "metadata": {
        "id": "We2pDEBHrMVH",
        "colab_type": "code",
        "colab": {}
      },
      "source": [
        "def convert(lang, tensor):\n",
        "  for t in tensor:\n",
        "    if t!=0:\n",
        "      print (\"%d ----> %s\" % (t, lang.index_word[t]))"
      ],
      "execution_count": 0,
      "outputs": []
    },
    {
      "cell_type": "code",
      "metadata": {
        "id": "nQtLpiIzH_9R",
        "colab_type": "code",
        "outputId": "91589aa9-5cc1-4712-a833-ae72fc8fdd82",
        "colab": {
          "base_uri": "https://localhost:8080/",
          "height": 510
        }
      },
      "source": [
        "print (\"Input Language; index to word mapping\")\n",
        "convert(inp_lang, input_tensor_train[2])\n",
        "print ()\n",
        "print (\"Target Language; index to word mapping\")\n",
        "convert(targ_lang, target_tensor_train[2])"
      ],
      "execution_count": 32,
      "outputs": [
        {
          "output_type": "stream",
          "text": [
            "Input Language; index to word mapping\n",
            "1 ----> <start>\n",
            "209 ----> coffee\n",
            "3 ----> i\n",
            "16 ----> do\n",
            "43 ----> not\n",
            "1945 ----> honestly\n",
            "23 ----> like\n",
            "17 ----> that\n",
            "142 ----> kind\n",
            "13 ----> of\n",
            "729 ----> stuff\n",
            "2 ----> <end>\n",
            "\n",
            "Target Language; index to word mapping\n",
            "1 ----> <start>\n",
            "100 ----> come\n",
            "32 ----> on\n",
            "4 ----> you\n",
            "21 ----> can\n",
            "45 ----> at\n",
            "774 ----> least\n",
            "96 ----> try\n",
            "7 ----> a\n",
            "117 ----> little\n",
            "534 ----> besides\n",
            "30 ----> your\n",
            "1420 ----> cigarette\n",
            "2 ----> <end>\n"
          ],
          "name": "stdout"
        }
      ]
    },
    {
      "cell_type": "code",
      "metadata": {
        "id": "rjCpiPjZrcTE",
        "colab_type": "code",
        "outputId": "45489b05-a3b4-49c9-936b-066cb5d8ec90",
        "colab": {
          "base_uri": "https://localhost:8080/",
          "height": 34
        }
      },
      "source": [
        "BUFFER_SIZE = len(input_tensor_train)\n",
        "print(\"BUFFER_SIZE:\", BUFFER_SIZE)\n",
        "BATCH_SIZE = 8\n",
        "steps_per_epoch = len(input_tensor_train)//BATCH_SIZE\n",
        "embedding_dim = 128\n",
        "units = 512\n",
        "vocab_inp_size = len(inp_lang.word_index) +1\n",
        "vocab_tar_size = len(targ_lang.word_index)+1\n",
        "dataset = tf.data.Dataset.from_tensor_slices((input_tensor_train, target_tensor_train)).shuffle(BUFFER_SIZE)\n",
        "dataset = dataset.batch(BATCH_SIZE, drop_remainder=True)"
      ],
      "execution_count": 33,
      "outputs": [
        {
          "output_type": "stream",
          "text": [
            "BUFFER_SIZE: 10000\n"
          ],
          "name": "stdout"
        }
      ]
    },
    {
      "cell_type": "code",
      "metadata": {
        "id": "PIOFrQJbrcwb",
        "colab_type": "code",
        "outputId": "3585093c-ba71-456a-fa00-587d1c6e2414",
        "colab": {
          "base_uri": "https://localhost:8080/",
          "height": 408
        }
      },
      "source": [
        "example_input_batch, example_target_batch = next(iter(dataset))\n",
        "print(example_input_batch)\n",
        "example_input_batch_numpy = example_input_batch.numpy()\n",
        "convert(inp_lang, example_input_batch_numpy[1])\n",
        "example_input_batch.shape, example_target_batch.shape"
      ],
      "execution_count": 34,
      "outputs": [
        {
          "output_type": "stream",
          "text": [
            "tf.Tensor(\n",
            "[[ 1 27  2 ...  0  0  0]\n",
            " [ 1  3 29 ...  0  0  0]\n",
            " [ 1  3 28 ...  0  0  0]\n",
            " ...\n",
            " [ 1 73  2 ...  0  0  0]\n",
            " [ 1 28  4 ...  0  0  0]\n",
            " [ 1 27  3 ...  0  0  0]], shape=(8, 147), dtype=int32)\n",
            "1 ----> <start>\n",
            "3 ----> i\n",
            "29 ----> am\n",
            "86 ----> sorry\n",
            "35 ----> but\n",
            "34 ----> there\n",
            "12 ----> s\n",
            "39 ----> no\n",
            "33 ----> one\n",
            "38 ----> here\n",
            "93 ----> by\n",
            "17 ----> that\n",
            "191 ----> name\n",
            "2 ----> <end>\n"
          ],
          "name": "stdout"
        },
        {
          "output_type": "execute_result",
          "data": {
            "text/plain": [
              "(TensorShape([8, 147]), TensorShape([8, 147]))"
            ]
          },
          "metadata": {
            "tags": []
          },
          "execution_count": 34
        }
      ]
    },
    {
      "cell_type": "code",
      "metadata": {
        "id": "wM_k7MNMrdE-",
        "colab_type": "code",
        "colab": {}
      },
      "source": [
        "class Encoder(tf.keras.Model):\n",
        "  def __init__(self, vocab_size, embedding_dim, enc_units, batch_sz):\n",
        "    super(Encoder, self).__init__()\n",
        "    self.batch_sz = batch_sz\n",
        "    self.enc_units = enc_units\n",
        "    self.embedding = tf.keras.layers.Embedding(vocab_size, embedding_dim)\n",
        "    self.gru = tf.keras.layers.GRU(self.enc_units, return_sequences=True, return_state=True, recurrent_initializer='glorot_uniform')\n",
        "\n",
        "  def call(self, x, hidden):\n",
        "    x = self.embedding(x)\n",
        "    output, state = self.gru(x, initial_state = hidden)\n",
        "    return output, state\n",
        "\n",
        "  def initialize_hidden_state(self):\n",
        "    return tf.zeros((self.batch_sz, self.enc_units))"
      ],
      "execution_count": 0,
      "outputs": []
    },
    {
      "cell_type": "code",
      "metadata": {
        "id": "ch9u92FDrdAJ",
        "colab_type": "code",
        "outputId": "69c57ac9-7093-46a1-af00-c19154f6024e",
        "colab": {
          "base_uri": "https://localhost:8080/",
          "height": 51
        }
      },
      "source": [
        "encoder = Encoder(vocab_inp_size, embedding_dim, units, BATCH_SIZE)\n",
        "# sample input\n",
        "sample_hidden = encoder.initialize_hidden_state()\n",
        "sample_output, sample_hidden = encoder(example_input_batch, sample_hidden)\n",
        "print ('Encoder output shape: (batch size, sequence length, units) {}'.format(sample_output.shape))\n",
        "print ('Encoder Hidden state shape: (batch size, units) {}'.format(sample_hidden.shape))"
      ],
      "execution_count": 36,
      "outputs": [
        {
          "output_type": "stream",
          "text": [
            "Encoder output shape: (batch size, sequence length, units) (8, 147, 512)\n",
            "Encoder Hidden state shape: (batch size, units) (8, 512)\n"
          ],
          "name": "stdout"
        }
      ]
    },
    {
      "cell_type": "code",
      "metadata": {
        "id": "bPDpfn_Lrc98",
        "colab_type": "code",
        "colab": {}
      },
      "source": [
        "class BahdanauAttention(tf.keras.layers.Layer):\n",
        "  def __init__(self, units):\n",
        "    super(BahdanauAttention, self).__init__()\n",
        "    self.W1 = tf.keras.layers.Dense(units)\n",
        "    self.W2 = tf.keras.layers.Dense(units)\n",
        "    self.V = tf.keras.layers.Dense(1)\n",
        "\n",
        "  def call(self, query, values):\n",
        "    # query hidden state shape == (batch_size, hidden size)\n",
        "    # query_with_time_axis shape == (batch_size, 1, hidden size)\n",
        "    # values shape == (batch_size, max_len, hidden size)\n",
        "    # we are doing this to broadcast addition along the time axis to calculate the score\n",
        "    query_with_time_axis = tf.expand_dims(query, 1)\n",
        "    # score shape == (batch_size, max_length, 1)\n",
        "    # we get 1 at the last axis because we are applying score to self.V\n",
        "    # the shape of the tensor before applying self.V is (batch_size, max_length, units)\n",
        "    score = self.V(tf.nn.tanh(self.W1(query_with_time_axis) + self.W2(values)))\n",
        "    # attention_weights shape == (batch_size, max_length, 1)\n",
        "    attention_weights = tf.nn.softmax(score, axis=1)\n",
        "    # context_vector shape after sum == (batch_size, hidden_size)\n",
        "    context_vector = attention_weights * values\n",
        "    context_vector = tf.reduce_sum(context_vector, axis=1)\n",
        "    return context_vector, attention_weights"
      ],
      "execution_count": 0,
      "outputs": []
    },
    {
      "cell_type": "code",
      "metadata": {
        "id": "5qwrBVsCrc7z",
        "colab_type": "code",
        "outputId": "72d6ed57-87b1-4cc6-fcf3-048b587e770e",
        "colab": {
          "base_uri": "https://localhost:8080/",
          "height": 51
        }
      },
      "source": [
        "attention_layer = BahdanauAttention(10)\n",
        "attention_result, attention_weights = attention_layer(sample_hidden, sample_output)\n",
        "\n",
        "print(\"Attention result shape: (batch size, units) {}\".format(attention_result.shape))\n",
        "print(\"Attention weights shape: (batch_size, sequence_length, 1) {}\".format(attention_weights.shape))"
      ],
      "execution_count": 41,
      "outputs": [
        {
          "output_type": "stream",
          "text": [
            "Attention result shape: (batch size, units) (8, 512)\n",
            "Attention weights shape: (batch_size, sequence_length, 1) (8, 147, 1)\n"
          ],
          "name": "stdout"
        }
      ]
    },
    {
      "cell_type": "code",
      "metadata": {
        "id": "jn25lc1qrc5e",
        "colab_type": "code",
        "colab": {}
      },
      "source": [
        "class Decoder(tf.keras.Model):\n",
        "  def __init__(self, vocab_size, embedding_dim, dec_units, batch_sz):\n",
        "    super(Decoder, self).__init__()\n",
        "    self.batch_sz = batch_sz\n",
        "    self.dec_units = dec_units\n",
        "    self.embedding = tf.keras.layers.Embedding(vocab_size, embedding_dim)\n",
        "    self.gru = tf.keras.layers.GRU(self.dec_units,\n",
        "                                   return_sequences=True,\n",
        "                                   return_state=True,\n",
        "                                   recurrent_initializer='glorot_uniform')\n",
        "    self.fc = tf.keras.layers.Dense(vocab_size)\n",
        "\n",
        "    # used for attention\n",
        "    self.attention = BahdanauAttention(self.dec_units)\n",
        "\n",
        "  def call(self, x, hidden, enc_output):\n",
        "    # enc_output shape == (batch_size, max_length, hidden_size)\n",
        "    context_vector, attention_weights = self.attention(hidden, enc_output)\n",
        "\n",
        "    # x shape after passing through embedding == (batch_size, 1, embedding_dim)\n",
        "    x = self.embedding(x)\n",
        "\n",
        "    # x shape after concatenation == (batch_size, 1, embedding_dim + hidden_size)\n",
        "    x = tf.concat([tf.expand_dims(context_vector, 1), x], axis=-1)\n",
        "\n",
        "    # passing the concatenated vector to the GRU\n",
        "    output, state = self.gru(x)\n",
        "\n",
        "    # output shape == (batch_size * 1, hidden_size)\n",
        "    output = tf.reshape(output, (-1, output.shape[2]))\n",
        "\n",
        "    # output shape == (batch_size, vocab)\n",
        "    x = self.fc(output)\n",
        "\n",
        "    return x, state, attention_weights"
      ],
      "execution_count": 0,
      "outputs": []
    },
    {
      "cell_type": "code",
      "metadata": {
        "id": "9JqFqk9_rc3Q",
        "colab_type": "code",
        "outputId": "3c334127-cc68-48d0-947c-a5a8858b0628",
        "colab": {
          "base_uri": "https://localhost:8080/",
          "height": 34
        }
      },
      "source": [
        "decoder = Decoder(vocab_tar_size, embedding_dim, units, BATCH_SIZE)\n",
        "sample_decoder_output, _, _ = decoder(tf.random.uniform((BATCH_SIZE, 1)), sample_hidden, sample_output)\n",
        "print ('Decoder output shape: (batch_size, vocab size) {}'.format(sample_decoder_output.shape))"
      ],
      "execution_count": 43,
      "outputs": [
        {
          "output_type": "stream",
          "text": [
            "Decoder output shape: (batch_size, vocab size) (8, 6382)\n"
          ],
          "name": "stdout"
        }
      ]
    },
    {
      "cell_type": "code",
      "metadata": {
        "id": "gFD8WP__rc0j",
        "colab_type": "code",
        "colab": {}
      },
      "source": [
        "optimizer = tf.keras.optimizers.Adam()\n",
        "loss_object = tf.keras.losses.SparseCategoricalCrossentropy(from_logits=True, reduction='none')\n",
        "\n",
        "def loss_function(real, pred):\n",
        "  mask = tf.math.logical_not(tf.math.equal(real, 0))\n",
        "  loss_ = loss_object(real, pred)\n",
        "  mask = tf.cast(mask, dtype=loss_.dtype)\n",
        "  loss_ *= mask\n",
        "  return tf.reduce_mean(loss_)"
      ],
      "execution_count": 0,
      "outputs": []
    },
    {
      "cell_type": "code",
      "metadata": {
        "id": "dhdksY7Mr4zD",
        "colab_type": "code",
        "colab": {}
      },
      "source": [
        "checkpoint_dir = 'cp-attention-single-layer-daily-dialog/'\n",
        "checkpoint_prefix = os.path.join(checkpoint_dir, \"ckpt\")\n",
        "checkpoint = tf.train.Checkpoint(optimizer=optimizer, encoder=encoder, decoder=decoder)"
      ],
      "execution_count": 0,
      "outputs": []
    },
    {
      "cell_type": "code",
      "metadata": {
        "id": "fy0X1ilvr_wW",
        "colab_type": "code",
        "colab": {}
      },
      "source": [
        "@tf.function\n",
        "def train_step(inp, targ, enc_hidden):\n",
        "  loss = 0\n",
        "\n",
        "  with tf.GradientTape() as tape:\n",
        "    enc_output, enc_hidden = encoder(inp, enc_hidden)\n",
        "\n",
        "    dec_hidden = enc_hidden\n",
        "\n",
        "    dec_input = tf.expand_dims([targ_lang.word_index['<start>']] * BATCH_SIZE, 1)\n",
        "\n",
        "    # Teacher forcing - feeding the target as the next input\n",
        "    for t in range(1, targ.shape[1]):\n",
        "      # passing enc_output to the decoder\n",
        "      predictions, dec_hidden, _ = decoder(dec_input, dec_hidden, enc_output)\n",
        "      loss += loss_function(targ[:, t], predictions)\n",
        "      # using teacher forcing\n",
        "      dec_input = tf.expand_dims(targ[:, t], 1)\n",
        "\n",
        "  batch_loss = (loss / int(targ.shape[1]))\n",
        "\n",
        "  variables = encoder.trainable_variables + decoder.trainable_variables\n",
        "\n",
        "  gradients = tape.gradient(loss, variables)\n",
        "\n",
        "  optimizer.apply_gradients(zip(gradients, variables))\n",
        "\n",
        "  return batch_loss"
      ],
      "execution_count": 0,
      "outputs": []
    },
    {
      "cell_type": "code",
      "metadata": {
        "id": "Se4Ddnh-sCs7",
        "colab_type": "code",
        "outputId": "b206a3c5-5f7d-489e-93ef-5d568ef32e4a",
        "colab": {
          "base_uri": "https://localhost:8080/",
          "height": 1000
        }
      },
      "source": [
        "EPOCHS = 50\n",
        "for epoch in range(EPOCHS):\n",
        "  start = time.time()\n",
        "  enc_hidden = encoder.initialize_hidden_state()\n",
        "  total_loss = 0\n",
        "  for (batch, (inp, targ)) in enumerate(dataset.take(steps_per_epoch)):\n",
        "    batch_loss = train_step(inp, targ, enc_hidden)\n",
        "    total_loss += batch_loss\n",
        "    if batch % 100 == 0:\n",
        "      print('Epoch {} Batch {} Loss {:.4f}'.format(epoch + 1,batch, batch_loss.numpy()))\n",
        "  # saving (checkpoint) the model every 2 epochs\n",
        "  if (epoch + 1) % 2 == 0:\n",
        "    print()\n",
        "    checkpoint.save(file_prefix = checkpoint_prefix)\n",
        "  print('Epoch {} Loss {:.4f}'.format(epoch + 1, total_loss / steps_per_epoch))\n",
        "  print('Time taken for 1 epoch {} sec\\n'.format(time.time() - start))"
      ],
      "execution_count": 0,
      "outputs": [
        {
          "output_type": "stream",
          "text": [
            "Epoch 1 Batch 0 Loss 0.3278\n",
            "Epoch 1 Batch 100 Loss 0.3920\n",
            "Epoch 1 Batch 200 Loss 0.3219\n",
            "Epoch 1 Batch 300 Loss 0.5668\n",
            "Epoch 1 Batch 400 Loss 0.3420\n",
            "Epoch 1 Batch 500 Loss 0.3590\n",
            "Epoch 1 Batch 600 Loss 0.4350\n",
            "Epoch 1 Batch 700 Loss 0.3338\n",
            "Epoch 1 Batch 800 Loss 0.4118\n",
            "Epoch 1 Batch 900 Loss 0.5791\n",
            "Epoch 1 Batch 1000 Loss 0.3331\n",
            "Epoch 1 Batch 1100 Loss 0.3507\n",
            "Epoch 1 Batch 1200 Loss 0.2736\n",
            "Epoch 1 Loss 0.4036\n",
            "Time taken for 1 epoch 613.5124502182007 sec\n",
            "\n",
            "Epoch 2 Batch 0 Loss 0.5672\n",
            "Epoch 2 Batch 100 Loss 0.3537\n",
            "Epoch 2 Batch 200 Loss 0.5120\n",
            "Epoch 2 Batch 300 Loss 0.2866\n",
            "Epoch 2 Batch 400 Loss 0.2557\n",
            "Epoch 2 Batch 500 Loss 0.4587\n",
            "Epoch 2 Batch 600 Loss 0.3663\n",
            "Epoch 2 Batch 700 Loss 0.2661\n",
            "Epoch 2 Batch 800 Loss 0.2339\n",
            "Epoch 2 Batch 900 Loss 0.2792\n",
            "Epoch 2 Batch 1000 Loss 0.2898\n",
            "Epoch 2 Batch 1100 Loss 0.2293\n",
            "Epoch 2 Batch 1200 Loss 0.2036\n",
            "\n",
            "Epoch 2 Loss 0.3490\n",
            "Time taken for 1 epoch 402.82732796669006 sec\n",
            "\n",
            "Epoch 3 Batch 0 Loss 0.3789\n",
            "Epoch 3 Batch 100 Loss 0.3935\n",
            "Epoch 3 Batch 200 Loss 0.4991\n",
            "Epoch 3 Batch 300 Loss 0.2450\n",
            "Epoch 3 Batch 400 Loss 0.1934\n",
            "Epoch 3 Batch 500 Loss 0.2045\n",
            "Epoch 3 Batch 600 Loss 0.4591\n",
            "Epoch 3 Batch 700 Loss 0.2307\n",
            "Epoch 3 Batch 800 Loss 0.2712\n",
            "Epoch 3 Batch 900 Loss 0.2274\n",
            "Epoch 3 Batch 1000 Loss 0.3854\n",
            "Epoch 3 Batch 1100 Loss 0.2545\n",
            "Epoch 3 Batch 1200 Loss 0.2433\n",
            "Epoch 3 Loss 0.3264\n",
            "Time taken for 1 epoch 402.2098903656006 sec\n",
            "\n",
            "Epoch 4 Batch 0 Loss 0.2959\n",
            "Epoch 4 Batch 100 Loss 0.2302\n",
            "Epoch 4 Batch 200 Loss 0.2730\n",
            "Epoch 4 Batch 300 Loss 0.2618\n",
            "Epoch 4 Batch 400 Loss 0.3823\n",
            "Epoch 4 Batch 500 Loss 0.4408\n",
            "Epoch 4 Batch 600 Loss 0.1971\n",
            "Epoch 4 Batch 700 Loss 0.3047\n",
            "Epoch 4 Batch 800 Loss 0.2367\n",
            "Epoch 4 Batch 900 Loss 0.3032\n",
            "Epoch 4 Batch 1000 Loss 0.4072\n",
            "Epoch 4 Batch 1100 Loss 0.3858\n",
            "Epoch 4 Batch 1200 Loss 0.5315\n",
            "\n",
            "Epoch 4 Loss 0.3083\n",
            "Time taken for 1 epoch 401.9179081916809 sec\n",
            "\n",
            "Epoch 5 Batch 0 Loss 0.3582\n",
            "Epoch 5 Batch 100 Loss 0.1748\n",
            "Epoch 5 Batch 200 Loss 0.2431\n",
            "Epoch 5 Batch 300 Loss 0.3326\n",
            "Epoch 5 Batch 400 Loss 0.2511\n",
            "Epoch 5 Batch 500 Loss 0.2073\n",
            "Epoch 5 Batch 600 Loss 0.1951\n",
            "Epoch 5 Batch 700 Loss 0.2745\n",
            "Epoch 5 Batch 800 Loss 0.2780\n",
            "Epoch 5 Batch 900 Loss 0.4330\n",
            "Epoch 5 Batch 1000 Loss 0.4489\n",
            "Epoch 5 Batch 1100 Loss 0.4399\n",
            "Epoch 5 Batch 1200 Loss 0.1901\n",
            "Epoch 5 Loss 0.2921\n",
            "Time taken for 1 epoch 401.641393661499 sec\n",
            "\n",
            "Epoch 6 Batch 0 Loss 0.2222\n",
            "Epoch 6 Batch 100 Loss 0.2912\n",
            "Epoch 6 Batch 200 Loss 0.1873\n",
            "Epoch 6 Batch 300 Loss 0.2993\n",
            "Epoch 6 Batch 400 Loss 0.3106\n",
            "Epoch 6 Batch 500 Loss 0.1949\n",
            "Epoch 6 Batch 600 Loss 0.3150\n",
            "Epoch 6 Batch 700 Loss 0.5123\n",
            "Epoch 6 Batch 800 Loss 0.2444\n",
            "Epoch 6 Batch 900 Loss 0.1888\n",
            "Epoch 6 Batch 1000 Loss 0.1936\n",
            "Epoch 6 Batch 1100 Loss 0.3586\n",
            "Epoch 6 Batch 1200 Loss 0.4226\n",
            "\n",
            "Epoch 6 Loss 0.2761\n",
            "Time taken for 1 epoch 401.4336154460907 sec\n",
            "\n",
            "Epoch 7 Batch 0 Loss 0.2041\n",
            "Epoch 7 Batch 100 Loss 0.1668\n",
            "Epoch 7 Batch 200 Loss 0.1966\n",
            "Epoch 7 Batch 300 Loss 0.2343\n",
            "Epoch 7 Batch 400 Loss 0.3411\n",
            "Epoch 7 Batch 500 Loss 0.2380\n",
            "Epoch 7 Batch 600 Loss 0.2190\n",
            "Epoch 7 Batch 700 Loss 0.3403\n",
            "Epoch 7 Batch 800 Loss 0.1942\n",
            "Epoch 7 Batch 900 Loss 0.1487\n",
            "Epoch 7 Batch 1000 Loss 0.0968\n",
            "Epoch 7 Batch 1100 Loss 0.4660\n",
            "Epoch 7 Batch 1200 Loss 0.1753\n",
            "Epoch 7 Loss 0.2604\n",
            "Time taken for 1 epoch 402.31036710739136 sec\n",
            "\n",
            "Epoch 8 Batch 0 Loss 0.1890\n",
            "Epoch 8 Batch 100 Loss 0.1279\n",
            "Epoch 8 Batch 200 Loss 0.1390\n",
            "Epoch 8 Batch 300 Loss 0.2063\n",
            "Epoch 8 Batch 400 Loss 0.1698\n",
            "Epoch 8 Batch 500 Loss 0.2063\n",
            "Epoch 8 Batch 600 Loss 0.1759\n",
            "Epoch 8 Batch 700 Loss 0.3656\n",
            "Epoch 8 Batch 800 Loss 0.3463\n",
            "Epoch 8 Batch 900 Loss 0.3852\n",
            "Epoch 8 Batch 1000 Loss 0.2207\n",
            "Epoch 8 Batch 1100 Loss 0.1157\n",
            "Epoch 8 Batch 1200 Loss 0.2207\n",
            "\n",
            "Epoch 8 Loss 0.2447\n",
            "Time taken for 1 epoch 402.7211244106293 sec\n",
            "\n",
            "Epoch 9 Batch 0 Loss 0.1543\n",
            "Epoch 9 Batch 100 Loss 0.2654\n",
            "Epoch 9 Batch 200 Loss 0.1446\n",
            "Epoch 9 Batch 300 Loss 0.2387\n",
            "Epoch 9 Batch 400 Loss 0.3829\n",
            "Epoch 9 Batch 500 Loss 0.1345\n",
            "Epoch 9 Batch 600 Loss 0.3088\n",
            "Epoch 9 Batch 700 Loss 0.2757\n",
            "Epoch 9 Batch 800 Loss 0.2151\n",
            "Epoch 9 Batch 900 Loss 0.3502\n",
            "Epoch 9 Batch 1000 Loss 0.1352\n",
            "Epoch 9 Batch 1100 Loss 0.1923\n",
            "Epoch 9 Batch 1200 Loss 0.3256\n",
            "Epoch 9 Loss 0.2288\n",
            "Time taken for 1 epoch 402.8921434879303 sec\n",
            "\n",
            "Epoch 10 Batch 0 Loss 0.1857\n",
            "Epoch 10 Batch 100 Loss 0.1594\n",
            "Epoch 10 Batch 200 Loss 0.1424\n",
            "Epoch 10 Batch 300 Loss 0.1893\n",
            "Epoch 10 Batch 400 Loss 0.2246\n",
            "Epoch 10 Batch 500 Loss 0.3000\n",
            "Epoch 10 Batch 600 Loss 0.1892\n",
            "Epoch 10 Batch 700 Loss 0.2072\n",
            "Epoch 10 Batch 800 Loss 0.1998\n",
            "Epoch 10 Batch 900 Loss 0.2161\n",
            "Epoch 10 Batch 1000 Loss 0.1737\n",
            "Epoch 10 Batch 1100 Loss 0.1777\n",
            "Epoch 10 Batch 1200 Loss 0.1971\n",
            "\n",
            "Epoch 10 Loss 0.2119\n",
            "Time taken for 1 epoch 402.60764265060425 sec\n",
            "\n",
            "Epoch 11 Batch 0 Loss 0.2199\n",
            "Epoch 11 Batch 100 Loss 0.2093\n",
            "Epoch 11 Batch 200 Loss 0.1268\n",
            "Epoch 11 Batch 300 Loss 0.2372\n",
            "Epoch 11 Batch 400 Loss 0.1751\n",
            "Epoch 11 Batch 500 Loss 0.2552\n",
            "Epoch 11 Batch 600 Loss 0.2140\n",
            "Epoch 11 Batch 700 Loss 0.1870\n",
            "Epoch 11 Batch 800 Loss 0.2860\n",
            "Epoch 11 Batch 900 Loss 0.1594\n",
            "Epoch 11 Batch 1000 Loss 0.2356\n",
            "Epoch 11 Batch 1100 Loss 0.2847\n",
            "Epoch 11 Batch 1200 Loss 0.2328\n",
            "Epoch 11 Loss 0.1946\n",
            "Time taken for 1 epoch 401.9920539855957 sec\n",
            "\n",
            "Epoch 12 Batch 0 Loss 0.1374\n",
            "Epoch 12 Batch 100 Loss 0.2004\n",
            "Epoch 12 Batch 200 Loss 0.2522\n",
            "Epoch 12 Batch 300 Loss 0.1766\n",
            "Epoch 12 Batch 400 Loss 0.1906\n",
            "Epoch 12 Batch 500 Loss 0.1514\n",
            "Epoch 12 Batch 600 Loss 0.1124\n",
            "Epoch 12 Batch 700 Loss 0.1521\n",
            "Epoch 12 Batch 800 Loss 0.2241\n",
            "Epoch 12 Batch 900 Loss 0.1614\n",
            "Epoch 12 Batch 1000 Loss 0.1249\n",
            "Epoch 12 Batch 1100 Loss 0.2152\n",
            "Epoch 12 Batch 1200 Loss 0.2372\n",
            "\n",
            "Epoch 12 Loss 0.1772\n",
            "Time taken for 1 epoch 401.954815864563 sec\n",
            "\n",
            "Epoch 13 Batch 0 Loss 0.0878\n",
            "Epoch 13 Batch 100 Loss 0.1455\n",
            "Epoch 13 Batch 200 Loss 0.1224\n",
            "Epoch 13 Batch 300 Loss 0.0826\n",
            "Epoch 13 Batch 400 Loss 0.1611\n",
            "Epoch 13 Batch 500 Loss 0.1750\n",
            "Epoch 13 Batch 600 Loss 0.1914\n",
            "Epoch 13 Batch 700 Loss 0.1486\n",
            "Epoch 13 Batch 800 Loss 0.1588\n",
            "Epoch 13 Batch 900 Loss 0.1088\n",
            "Epoch 13 Batch 1000 Loss 0.1575\n",
            "Epoch 13 Batch 1100 Loss 0.1224\n",
            "Epoch 13 Batch 1200 Loss 0.2261\n",
            "Epoch 13 Loss 0.1595\n",
            "Time taken for 1 epoch 402.26759600639343 sec\n",
            "\n",
            "Epoch 14 Batch 0 Loss 0.1085\n",
            "Epoch 14 Batch 100 Loss 0.1311\n",
            "Epoch 14 Batch 200 Loss 0.1540\n",
            "Epoch 14 Batch 300 Loss 0.1322\n",
            "Epoch 14 Batch 400 Loss 0.2076\n",
            "Epoch 14 Batch 500 Loss 0.1699\n",
            "Epoch 14 Batch 600 Loss 0.1355\n",
            "Epoch 14 Batch 700 Loss 0.1273\n",
            "Epoch 14 Batch 800 Loss 0.1818\n",
            "Epoch 14 Batch 900 Loss 0.1822\n",
            "Epoch 14 Batch 1000 Loss 0.1077\n",
            "Epoch 14 Batch 1100 Loss 0.1044\n",
            "Epoch 14 Batch 1200 Loss 0.1433\n",
            "\n",
            "Epoch 14 Loss 0.1430\n",
            "Time taken for 1 epoch 401.64098858833313 sec\n",
            "\n",
            "Epoch 15 Batch 0 Loss 0.1149\n",
            "Epoch 15 Batch 100 Loss 0.0817\n",
            "Epoch 15 Batch 200 Loss 0.0985\n",
            "Epoch 15 Batch 300 Loss 0.0776\n",
            "Epoch 15 Batch 400 Loss 0.1264\n",
            "Epoch 15 Batch 500 Loss 0.1100\n",
            "Epoch 15 Batch 600 Loss 0.0914\n",
            "Epoch 15 Batch 700 Loss 0.1655\n",
            "Epoch 15 Batch 800 Loss 0.0915\n",
            "Epoch 15 Batch 900 Loss 0.1032\n",
            "Epoch 15 Batch 1000 Loss 0.1141\n",
            "Epoch 15 Batch 1100 Loss 0.1025\n",
            "Epoch 15 Batch 1200 Loss 0.1368\n",
            "Epoch 15 Loss 0.1266\n",
            "Time taken for 1 epoch 401.7621331214905 sec\n",
            "\n",
            "Epoch 16 Batch 0 Loss 0.0757\n",
            "Epoch 16 Batch 100 Loss 0.1018\n",
            "Epoch 16 Batch 200 Loss 0.0992\n",
            "Epoch 16 Batch 300 Loss 0.1134\n",
            "Epoch 16 Batch 400 Loss 0.0721\n",
            "Epoch 16 Batch 500 Loss 0.0989\n",
            "Epoch 16 Batch 600 Loss 0.0668\n",
            "Epoch 16 Batch 700 Loss 0.2034\n",
            "Epoch 16 Batch 800 Loss 0.1397\n",
            "Epoch 16 Batch 900 Loss 0.0987\n",
            "Epoch 16 Batch 1000 Loss 0.1408\n",
            "Epoch 16 Batch 1100 Loss 0.0956\n",
            "Epoch 16 Batch 1200 Loss 0.0881\n",
            "\n",
            "Epoch 16 Loss 0.1115\n",
            "Time taken for 1 epoch 402.54569578170776 sec\n",
            "\n",
            "Epoch 17 Batch 0 Loss 0.1297\n",
            "Epoch 17 Batch 100 Loss 0.1520\n",
            "Epoch 17 Batch 200 Loss 0.0533\n",
            "Epoch 17 Batch 300 Loss 0.0782\n",
            "Epoch 17 Batch 400 Loss 0.0936\n",
            "Epoch 17 Batch 500 Loss 0.1179\n",
            "Epoch 17 Batch 600 Loss 0.0819\n",
            "Epoch 17 Batch 700 Loss 0.1034\n",
            "Epoch 17 Batch 800 Loss 0.0962\n",
            "Epoch 17 Batch 900 Loss 0.0844\n",
            "Epoch 17 Batch 1000 Loss 0.1175\n",
            "Epoch 17 Batch 1100 Loss 0.0629\n",
            "Epoch 17 Batch 1200 Loss 0.1801\n",
            "Epoch 17 Loss 0.0976\n",
            "Time taken for 1 epoch 402.5324604511261 sec\n",
            "\n",
            "Epoch 18 Batch 0 Loss 0.1253\n",
            "Epoch 18 Batch 100 Loss 0.0763\n",
            "Epoch 18 Batch 200 Loss 0.0687\n",
            "Epoch 18 Batch 300 Loss 0.0725\n",
            "Epoch 18 Batch 400 Loss 0.0906\n",
            "Epoch 18 Batch 500 Loss 0.0525\n",
            "Epoch 18 Batch 600 Loss 0.0786\n",
            "Epoch 18 Batch 700 Loss 0.0754\n",
            "Epoch 18 Batch 800 Loss 0.0490\n",
            "Epoch 18 Batch 900 Loss 0.1165\n",
            "Epoch 18 Batch 1000 Loss 0.0990\n",
            "Epoch 18 Batch 1100 Loss 0.1041\n",
            "Epoch 18 Batch 1200 Loss 0.0835\n",
            "\n",
            "Epoch 18 Loss 0.0843\n",
            "Time taken for 1 epoch 403.05693650245667 sec\n",
            "\n",
            "Epoch 19 Batch 0 Loss 0.0564\n",
            "Epoch 19 Batch 100 Loss 0.0591\n",
            "Epoch 19 Batch 200 Loss 0.0394\n",
            "Epoch 19 Batch 300 Loss 0.0556\n",
            "Epoch 19 Batch 400 Loss 0.0355\n",
            "Epoch 19 Batch 500 Loss 0.0615\n",
            "Epoch 19 Batch 600 Loss 0.0643\n",
            "Epoch 19 Batch 700 Loss 0.0713\n",
            "Epoch 19 Batch 800 Loss 0.2077\n",
            "Epoch 19 Batch 900 Loss 0.1025\n",
            "Epoch 19 Batch 1000 Loss 0.0788\n",
            "Epoch 19 Batch 1100 Loss 0.1356\n",
            "Epoch 19 Batch 1200 Loss 0.0940\n",
            "Epoch 19 Loss 0.0728\n",
            "Time taken for 1 epoch 405.05824279785156 sec\n",
            "\n",
            "Epoch 20 Batch 0 Loss 0.0787\n",
            "Epoch 20 Batch 100 Loss 0.0804\n",
            "Epoch 20 Batch 200 Loss 0.0347\n",
            "Epoch 20 Batch 300 Loss 0.0813\n",
            "Epoch 20 Batch 400 Loss 0.0468\n",
            "Epoch 20 Batch 500 Loss 0.0523\n",
            "Epoch 20 Batch 600 Loss 0.1003\n",
            "Epoch 20 Batch 700 Loss 0.0832\n",
            "Epoch 20 Batch 800 Loss 0.0277\n",
            "Epoch 20 Batch 900 Loss 0.0887\n",
            "Epoch 20 Batch 1000 Loss 0.1068\n",
            "Epoch 20 Batch 1100 Loss 0.0454\n",
            "Epoch 20 Batch 1200 Loss 0.1115\n",
            "\n",
            "Epoch 20 Loss 0.0629\n",
            "Time taken for 1 epoch 408.0746440887451 sec\n",
            "\n",
            "Epoch 21 Batch 0 Loss 0.0235\n",
            "Epoch 21 Batch 100 Loss 0.0656\n",
            "Epoch 21 Batch 200 Loss 0.0532\n",
            "Epoch 21 Batch 300 Loss 0.0752\n",
            "Epoch 21 Batch 400 Loss 0.0484\n",
            "Epoch 21 Batch 500 Loss 0.0520\n",
            "Epoch 21 Batch 600 Loss 0.0268\n",
            "Epoch 21 Batch 700 Loss 0.0604\n",
            "Epoch 21 Batch 800 Loss 0.0452\n",
            "Epoch 21 Batch 900 Loss 0.0711\n",
            "Epoch 21 Batch 1000 Loss 0.0726\n",
            "Epoch 21 Batch 1100 Loss 0.0376\n",
            "Epoch 21 Batch 1200 Loss 0.0812\n",
            "Epoch 21 Loss 0.0538\n",
            "Time taken for 1 epoch 407.8710517883301 sec\n",
            "\n",
            "Epoch 22 Batch 0 Loss 0.0393\n",
            "Epoch 22 Batch 100 Loss 0.0457\n",
            "Epoch 22 Batch 200 Loss 0.0305\n",
            "Epoch 22 Batch 300 Loss 0.0205\n",
            "Epoch 22 Batch 400 Loss 0.0196\n",
            "Epoch 22 Batch 500 Loss 0.0221\n",
            "Epoch 22 Batch 600 Loss 0.0507\n",
            "Epoch 22 Batch 700 Loss 0.0300\n",
            "Epoch 22 Batch 800 Loss 0.0613\n",
            "Epoch 22 Batch 900 Loss 0.0514\n",
            "Epoch 22 Batch 1000 Loss 0.0481\n",
            "Epoch 22 Batch 1100 Loss 0.0654\n",
            "Epoch 22 Batch 1200 Loss 0.0324\n",
            "\n",
            "Epoch 22 Loss 0.0464\n",
            "Time taken for 1 epoch 407.767942905426 sec\n",
            "\n",
            "Epoch 23 Batch 0 Loss 0.0447\n",
            "Epoch 23 Batch 100 Loss 0.0816\n",
            "Epoch 23 Batch 200 Loss 0.0545\n",
            "Epoch 23 Batch 300 Loss 0.0215\n",
            "Epoch 23 Batch 400 Loss 0.0147\n",
            "Epoch 23 Batch 500 Loss 0.0554\n",
            "Epoch 23 Batch 600 Loss 0.0741\n",
            "Epoch 23 Batch 700 Loss 0.0251\n",
            "Epoch 23 Batch 800 Loss 0.0864\n",
            "Epoch 23 Batch 900 Loss 0.0398\n",
            "Epoch 23 Batch 1000 Loss 0.0458\n",
            "Epoch 23 Batch 1100 Loss 0.0474\n",
            "Epoch 23 Batch 1200 Loss 0.0224\n",
            "Epoch 23 Loss 0.0404\n",
            "Time taken for 1 epoch 408.2427303791046 sec\n",
            "\n",
            "Epoch 24 Batch 0 Loss 0.0154\n",
            "Epoch 24 Batch 100 Loss 0.0180\n",
            "Epoch 24 Batch 200 Loss 0.0213\n",
            "Epoch 24 Batch 300 Loss 0.0235\n",
            "Epoch 24 Batch 400 Loss 0.0260\n",
            "Epoch 24 Batch 500 Loss 0.0488\n",
            "Epoch 24 Batch 600 Loss 0.0363\n",
            "Epoch 24 Batch 700 Loss 0.0445\n",
            "Epoch 24 Batch 800 Loss 0.0195\n",
            "Epoch 24 Batch 900 Loss 0.0485\n",
            "Epoch 24 Batch 1000 Loss 0.0806\n",
            "Epoch 24 Batch 1100 Loss 0.0348\n",
            "Epoch 24 Batch 1200 Loss 0.0208\n",
            "\n",
            "Epoch 24 Loss 0.0348\n",
            "Time taken for 1 epoch 408.0247721672058 sec\n",
            "\n",
            "Epoch 25 Batch 0 Loss 0.0346\n",
            "Epoch 25 Batch 100 Loss 0.0280\n",
            "Epoch 25 Batch 200 Loss 0.0134\n",
            "Epoch 25 Batch 300 Loss 0.0188\n",
            "Epoch 25 Batch 400 Loss 0.0163\n",
            "Epoch 25 Batch 500 Loss 0.0372\n",
            "Epoch 25 Batch 600 Loss 0.0211\n",
            "Epoch 25 Batch 700 Loss 0.0318\n",
            "Epoch 25 Batch 800 Loss 0.0575\n",
            "Epoch 25 Batch 900 Loss 0.0244\n",
            "Epoch 25 Batch 1000 Loss 0.0460\n",
            "Epoch 25 Batch 1100 Loss 0.0383\n",
            "Epoch 25 Batch 1200 Loss 0.0221\n",
            "Epoch 25 Loss 0.0311\n",
            "Time taken for 1 epoch 408.8403217792511 sec\n",
            "\n",
            "Epoch 26 Batch 0 Loss 0.0450\n",
            "Epoch 26 Batch 100 Loss 0.0262\n",
            "Epoch 26 Batch 200 Loss 0.0183\n",
            "Epoch 26 Batch 300 Loss 0.0160\n",
            "Epoch 26 Batch 400 Loss 0.0280\n",
            "Epoch 26 Batch 500 Loss 0.0305\n",
            "Epoch 26 Batch 600 Loss 0.0230\n",
            "Epoch 26 Batch 700 Loss 0.0244\n",
            "Epoch 26 Batch 800 Loss 0.0403\n",
            "Epoch 26 Batch 900 Loss 0.0266\n",
            "Epoch 26 Batch 1000 Loss 0.0238\n",
            "Epoch 26 Batch 1100 Loss 0.0559\n",
            "Epoch 26 Batch 1200 Loss 0.0126\n",
            "\n",
            "Epoch 26 Loss 0.0279\n",
            "Time taken for 1 epoch 409.8096754550934 sec\n",
            "\n",
            "Epoch 27 Batch 0 Loss 0.0187\n",
            "Epoch 27 Batch 100 Loss 0.0207\n",
            "Epoch 27 Batch 200 Loss 0.0120\n",
            "Epoch 27 Batch 300 Loss 0.0113\n",
            "Epoch 27 Batch 400 Loss 0.0188\n",
            "Epoch 27 Batch 500 Loss 0.0443\n",
            "Epoch 27 Batch 600 Loss 0.0285\n",
            "Epoch 27 Batch 700 Loss 0.0071\n",
            "Epoch 27 Batch 800 Loss 0.0133\n",
            "Epoch 27 Batch 900 Loss 0.0244\n",
            "Epoch 27 Batch 1000 Loss 0.0283\n",
            "Epoch 27 Batch 1100 Loss 0.0476\n",
            "Epoch 27 Batch 1200 Loss 0.0330\n",
            "Epoch 27 Loss 0.0240\n",
            "Time taken for 1 epoch 407.7011396884918 sec\n",
            "\n",
            "Epoch 28 Batch 0 Loss 0.0212\n",
            "Epoch 28 Batch 100 Loss 0.0238\n",
            "Epoch 28 Batch 200 Loss 0.0210\n",
            "Epoch 28 Batch 300 Loss 0.0167\n",
            "Epoch 28 Batch 400 Loss 0.0250\n",
            "Epoch 28 Batch 500 Loss 0.0205\n",
            "Epoch 28 Batch 600 Loss 0.0132\n",
            "Epoch 28 Batch 700 Loss 0.0216\n",
            "Epoch 28 Batch 800 Loss 0.0380\n",
            "Epoch 28 Batch 900 Loss 0.0214\n",
            "Epoch 28 Batch 1000 Loss 0.0403\n",
            "Epoch 28 Batch 1100 Loss 0.0159\n",
            "Epoch 28 Batch 1200 Loss 0.0156\n",
            "\n",
            "Epoch 28 Loss 0.0221\n",
            "Time taken for 1 epoch 408.0783817768097 sec\n",
            "\n",
            "Epoch 29 Batch 0 Loss 0.0109\n",
            "Epoch 29 Batch 100 Loss 0.0128\n",
            "Epoch 29 Batch 200 Loss 0.0168\n",
            "Epoch 29 Batch 300 Loss 0.0346\n",
            "Epoch 29 Batch 400 Loss 0.0354\n",
            "Epoch 29 Batch 500 Loss 0.0107\n",
            "Epoch 29 Batch 600 Loss 0.0681\n",
            "Epoch 29 Batch 700 Loss 0.0208\n",
            "Epoch 29 Batch 800 Loss 0.0216\n",
            "Epoch 29 Batch 900 Loss 0.0423\n",
            "Epoch 29 Batch 1000 Loss 0.0194\n",
            "Epoch 29 Batch 1100 Loss 0.0255\n",
            "Epoch 29 Batch 1200 Loss 0.0216\n",
            "Epoch 29 Loss 0.0209\n",
            "Time taken for 1 epoch 409.78502011299133 sec\n",
            "\n",
            "Epoch 30 Batch 0 Loss 0.0117\n",
            "Epoch 30 Batch 100 Loss 0.0196\n",
            "Epoch 30 Batch 200 Loss 0.0042\n",
            "Epoch 30 Batch 300 Loss 0.0314\n",
            "Epoch 30 Batch 400 Loss 0.0114\n",
            "Epoch 30 Batch 500 Loss 0.0095\n",
            "Epoch 30 Batch 600 Loss 0.0320\n",
            "Epoch 30 Batch 700 Loss 0.0213\n",
            "Epoch 30 Batch 800 Loss 0.0364\n",
            "Epoch 30 Batch 900 Loss 0.0146\n",
            "Epoch 30 Batch 1000 Loss 0.0180\n",
            "Epoch 30 Batch 1100 Loss 0.0336\n",
            "Epoch 30 Batch 1200 Loss 0.0122\n",
            "\n",
            "Epoch 30 Loss 0.0191\n",
            "Time taken for 1 epoch 410.9426634311676 sec\n",
            "\n",
            "Epoch 31 Batch 0 Loss 0.0241\n",
            "Epoch 31 Batch 100 Loss 0.0100\n",
            "Epoch 31 Batch 200 Loss 0.0139\n",
            "Epoch 31 Batch 300 Loss 0.0143\n",
            "Epoch 31 Batch 400 Loss 0.0169\n",
            "Epoch 31 Batch 500 Loss 0.0312\n",
            "Epoch 31 Batch 600 Loss 0.0279\n",
            "Epoch 31 Batch 700 Loss 0.0097\n",
            "Epoch 31 Batch 800 Loss 0.0100\n",
            "Epoch 31 Batch 900 Loss 0.0149\n",
            "Epoch 31 Batch 1000 Loss 0.0185\n",
            "Epoch 31 Batch 1100 Loss 0.0180\n",
            "Epoch 31 Batch 1200 Loss 0.0211\n",
            "Epoch 31 Loss 0.0175\n",
            "Time taken for 1 epoch 409.8195300102234 sec\n",
            "\n",
            "Epoch 32 Batch 0 Loss 0.0113\n",
            "Epoch 32 Batch 100 Loss 0.0148\n",
            "Epoch 32 Batch 200 Loss 0.0105\n",
            "Epoch 32 Batch 300 Loss 0.0188\n",
            "Epoch 32 Batch 400 Loss 0.0117\n",
            "Epoch 32 Batch 500 Loss 0.0145\n",
            "Epoch 32 Batch 600 Loss 0.0145\n",
            "Epoch 32 Batch 700 Loss 0.0195\n",
            "Epoch 32 Batch 800 Loss 0.0233\n",
            "Epoch 32 Batch 900 Loss 0.0162\n",
            "Epoch 32 Batch 1000 Loss 0.0147\n",
            "Epoch 32 Batch 1100 Loss 0.0091\n",
            "Epoch 32 Batch 1200 Loss 0.0167\n",
            "\n",
            "Epoch 32 Loss 0.0168\n",
            "Time taken for 1 epoch 405.0580310821533 sec\n",
            "\n",
            "Epoch 33 Batch 0 Loss 0.0101\n",
            "Epoch 33 Batch 100 Loss 0.0173\n",
            "Epoch 33 Batch 200 Loss 0.0247\n",
            "Epoch 33 Batch 300 Loss 0.0065\n",
            "Epoch 33 Batch 400 Loss 0.0118\n",
            "Epoch 33 Batch 500 Loss 0.0169\n",
            "Epoch 33 Batch 600 Loss 0.0064\n",
            "Epoch 33 Batch 700 Loss 0.0239\n",
            "Epoch 33 Batch 800 Loss 0.0290\n",
            "Epoch 33 Batch 900 Loss 0.0058\n",
            "Epoch 33 Batch 1000 Loss 0.0125\n",
            "Epoch 33 Batch 1100 Loss 0.0133\n",
            "Epoch 33 Batch 1200 Loss 0.0207\n",
            "Epoch 33 Loss 0.0167\n",
            "Time taken for 1 epoch 404.4810516834259 sec\n",
            "\n",
            "Epoch 34 Batch 0 Loss 0.0201\n",
            "Epoch 34 Batch 100 Loss 0.0283\n",
            "Epoch 34 Batch 200 Loss 0.0101\n",
            "Epoch 34 Batch 300 Loss 0.0458\n",
            "Epoch 34 Batch 400 Loss 0.0154\n",
            "Epoch 34 Batch 500 Loss 0.0109\n",
            "Epoch 34 Batch 600 Loss 0.0103\n",
            "Epoch 34 Batch 700 Loss 0.0132\n",
            "Epoch 34 Batch 800 Loss 0.0384\n",
            "Epoch 34 Batch 900 Loss 0.0104\n",
            "Epoch 34 Batch 1000 Loss 0.0247\n",
            "Epoch 34 Batch 1100 Loss 0.0150\n",
            "Epoch 34 Batch 1200 Loss 0.0166\n",
            "\n",
            "Epoch 34 Loss 0.0156\n",
            "Time taken for 1 epoch 405.2338898181915 sec\n",
            "\n",
            "Epoch 35 Batch 0 Loss 0.0436\n",
            "Epoch 35 Batch 100 Loss 0.0112\n",
            "Epoch 35 Batch 200 Loss 0.0139\n",
            "Epoch 35 Batch 300 Loss 0.0095\n",
            "Epoch 35 Batch 400 Loss 0.0219\n",
            "Epoch 35 Batch 500 Loss 0.0096\n",
            "Epoch 35 Batch 600 Loss 0.0092\n",
            "Epoch 35 Batch 700 Loss 0.0102\n",
            "Epoch 35 Batch 800 Loss 0.0339\n",
            "Epoch 35 Batch 900 Loss 0.0122\n",
            "Epoch 35 Batch 1000 Loss 0.0152\n",
            "Epoch 35 Batch 1100 Loss 0.0266\n",
            "Epoch 35 Batch 1200 Loss 0.0156\n",
            "Epoch 35 Loss 0.0148\n",
            "Time taken for 1 epoch 403.13758087158203 sec\n",
            "\n",
            "Epoch 36 Batch 0 Loss 0.0114\n",
            "Epoch 36 Batch 100 Loss 0.0074\n",
            "Epoch 36 Batch 200 Loss 0.0106\n",
            "Epoch 36 Batch 300 Loss 0.0130\n",
            "Epoch 36 Batch 400 Loss 0.0291\n",
            "Epoch 36 Batch 500 Loss 0.0062\n",
            "Epoch 36 Batch 600 Loss 0.0199\n",
            "Epoch 36 Batch 700 Loss 0.0341\n",
            "Epoch 36 Batch 800 Loss 0.0074\n",
            "Epoch 36 Batch 900 Loss 0.0135\n",
            "Epoch 36 Batch 1000 Loss 0.0159\n",
            "Epoch 36 Batch 1100 Loss 0.0166\n",
            "Epoch 36 Batch 1200 Loss 0.0180\n",
            "\n",
            "Epoch 36 Loss 0.0142\n",
            "Time taken for 1 epoch 404.30559968948364 sec\n",
            "\n",
            "Epoch 37 Batch 0 Loss 0.0066\n",
            "Epoch 37 Batch 100 Loss 0.0050\n",
            "Epoch 37 Batch 200 Loss 0.0054\n",
            "Epoch 37 Batch 300 Loss 0.0026\n",
            "Epoch 37 Batch 400 Loss 0.0214\n",
            "Epoch 37 Batch 500 Loss 0.0302\n",
            "Epoch 37 Batch 600 Loss 0.0145\n",
            "Epoch 37 Batch 700 Loss 0.0103\n",
            "Epoch 37 Batch 800 Loss 0.0150\n",
            "Epoch 37 Batch 900 Loss 0.0097\n",
            "Epoch 37 Batch 1000 Loss 0.0369\n",
            "Epoch 37 Batch 1100 Loss 0.0135\n",
            "Epoch 37 Batch 1200 Loss 0.0226\n",
            "Epoch 37 Loss 0.0138\n",
            "Time taken for 1 epoch 404.256144285202 sec\n",
            "\n",
            "Epoch 38 Batch 0 Loss 0.0106\n",
            "Epoch 38 Batch 100 Loss 0.0106\n",
            "Epoch 38 Batch 200 Loss 0.0172\n",
            "Epoch 38 Batch 300 Loss 0.0038\n",
            "Epoch 38 Batch 400 Loss 0.0090\n",
            "Epoch 38 Batch 500 Loss 0.0150\n",
            "Epoch 38 Batch 600 Loss 0.0118\n",
            "Epoch 38 Batch 700 Loss 0.0156\n",
            "Epoch 38 Batch 800 Loss 0.0107\n",
            "Epoch 38 Batch 900 Loss 0.0049\n",
            "Epoch 38 Batch 1000 Loss 0.0171\n",
            "Epoch 38 Batch 1100 Loss 0.0170\n",
            "Epoch 38 Batch 1200 Loss 0.0312\n",
            "\n",
            "Epoch 38 Loss 0.0136\n",
            "Time taken for 1 epoch 403.2068221569061 sec\n",
            "\n",
            "Epoch 39 Batch 0 Loss 0.0023\n",
            "Epoch 39 Batch 100 Loss 0.0164\n",
            "Epoch 39 Batch 200 Loss 0.0275\n",
            "Epoch 39 Batch 300 Loss 0.0068\n",
            "Epoch 39 Batch 400 Loss 0.0192\n",
            "Epoch 39 Batch 500 Loss 0.0097\n",
            "Epoch 39 Batch 600 Loss 0.0020\n",
            "Epoch 39 Batch 700 Loss 0.0191\n",
            "Epoch 39 Batch 800 Loss 0.0059\n",
            "Epoch 39 Batch 900 Loss 0.0070\n",
            "Epoch 39 Batch 1000 Loss 0.0134\n",
            "Epoch 39 Batch 1100 Loss 0.0223\n",
            "Epoch 39 Batch 1200 Loss 0.0181\n",
            "Epoch 39 Loss 0.0128\n",
            "Time taken for 1 epoch 403.204519033432 sec\n",
            "\n",
            "Epoch 40 Batch 0 Loss 0.0076\n",
            "Epoch 40 Batch 100 Loss 0.0143\n",
            "Epoch 40 Batch 200 Loss 0.0069\n",
            "Epoch 40 Batch 300 Loss 0.0232\n",
            "Epoch 40 Batch 400 Loss 0.0038\n",
            "Epoch 40 Batch 500 Loss 0.0104\n",
            "Epoch 40 Batch 600 Loss 0.0042\n",
            "Epoch 40 Batch 700 Loss 0.0158\n",
            "Epoch 40 Batch 800 Loss 0.0115\n",
            "Epoch 40 Batch 900 Loss 0.0186\n",
            "Epoch 40 Batch 1000 Loss 0.0228\n",
            "Epoch 40 Batch 1100 Loss 0.0127\n",
            "Epoch 40 Batch 1200 Loss 0.0077\n",
            "\n",
            "Epoch 40 Loss 0.0129\n",
            "Time taken for 1 epoch 402.97847723960876 sec\n",
            "\n",
            "Epoch 41 Batch 0 Loss 0.0069\n",
            "Epoch 41 Batch 100 Loss 0.0068\n",
            "Epoch 41 Batch 200 Loss 0.0315\n",
            "Epoch 41 Batch 300 Loss 0.0080\n",
            "Epoch 41 Batch 400 Loss 0.0099\n",
            "Epoch 41 Batch 500 Loss 0.0098\n",
            "Epoch 41 Batch 600 Loss 0.0041\n",
            "Epoch 41 Batch 700 Loss 0.0089\n",
            "Epoch 41 Batch 800 Loss 0.0015\n",
            "Epoch 41 Batch 900 Loss 0.0079\n",
            "Epoch 41 Batch 1000 Loss 0.0356\n",
            "Epoch 41 Batch 1100 Loss 0.0229\n",
            "Epoch 41 Batch 1200 Loss 0.0137\n",
            "Epoch 41 Loss 0.0130\n",
            "Time taken for 1 epoch 401.8024322986603 sec\n",
            "\n",
            "Epoch 42 Batch 0 Loss 0.0253\n",
            "Epoch 42 Batch 100 Loss 0.0050\n",
            "Epoch 42 Batch 200 Loss 0.0064\n",
            "Epoch 42 Batch 300 Loss 0.0056\n",
            "Epoch 42 Batch 400 Loss 0.0066\n",
            "Epoch 42 Batch 500 Loss 0.0187\n",
            "Epoch 42 Batch 600 Loss 0.0069\n",
            "Epoch 42 Batch 700 Loss 0.0037\n",
            "Epoch 42 Batch 800 Loss 0.0076\n",
            "Epoch 42 Batch 900 Loss 0.0037\n",
            "Epoch 42 Batch 1000 Loss 0.0128\n",
            "Epoch 42 Batch 1100 Loss 0.0115\n",
            "Epoch 42 Batch 1200 Loss 0.0158\n",
            "\n",
            "Epoch 42 Loss 0.0123\n",
            "Time taken for 1 epoch 402.3954439163208 sec\n",
            "\n",
            "Epoch 43 Batch 0 Loss 0.0067\n",
            "Epoch 43 Batch 100 Loss 0.0080\n",
            "Epoch 43 Batch 200 Loss 0.0113\n",
            "Epoch 43 Batch 300 Loss 0.0088\n",
            "Epoch 43 Batch 400 Loss 0.0078\n",
            "Epoch 43 Batch 500 Loss 0.0202\n",
            "Epoch 43 Batch 600 Loss 0.0129\n",
            "Epoch 43 Batch 700 Loss 0.0079\n",
            "Epoch 43 Batch 800 Loss 0.0132\n",
            "Epoch 43 Batch 900 Loss 0.0184\n",
            "Epoch 43 Batch 1000 Loss 0.0040\n",
            "Epoch 43 Batch 1100 Loss 0.0061\n",
            "Epoch 43 Batch 1200 Loss 0.0189\n",
            "Epoch 43 Loss 0.0117\n",
            "Time taken for 1 epoch 402.9737527370453 sec\n",
            "\n",
            "Epoch 44 Batch 0 Loss 0.0091\n",
            "Epoch 44 Batch 100 Loss 0.0130\n",
            "Epoch 44 Batch 200 Loss 0.0084\n",
            "Epoch 44 Batch 300 Loss 0.0160\n",
            "Epoch 44 Batch 400 Loss 0.0058\n",
            "Epoch 44 Batch 500 Loss 0.0038\n",
            "Epoch 44 Batch 600 Loss 0.0050\n",
            "Epoch 44 Batch 700 Loss 0.0062\n",
            "Epoch 44 Batch 800 Loss 0.0115\n",
            "Epoch 44 Batch 900 Loss 0.0115\n",
            "Epoch 44 Batch 1000 Loss 0.0227\n",
            "Epoch 44 Batch 1100 Loss 0.0095\n",
            "Epoch 44 Batch 1200 Loss 0.0075\n",
            "\n",
            "Epoch 44 Loss 0.0117\n",
            "Time taken for 1 epoch 403.41172885894775 sec\n",
            "\n",
            "Epoch 45 Batch 0 Loss 0.0184\n",
            "Epoch 45 Batch 100 Loss 0.0038\n",
            "Epoch 45 Batch 200 Loss 0.0030\n",
            "Epoch 45 Batch 300 Loss 0.0036\n",
            "Epoch 45 Batch 400 Loss 0.0094\n",
            "Epoch 45 Batch 500 Loss 0.0102\n",
            "Epoch 45 Batch 600 Loss 0.0090\n",
            "Epoch 45 Batch 700 Loss 0.0149\n",
            "Epoch 45 Batch 800 Loss 0.0071\n",
            "Epoch 45 Batch 900 Loss 0.0020\n",
            "Epoch 45 Batch 1000 Loss 0.0075\n",
            "Epoch 45 Batch 1100 Loss 0.0068\n",
            "Epoch 45 Batch 1200 Loss 0.0125\n",
            "Epoch 45 Loss 0.0113\n",
            "Time taken for 1 epoch 403.84556579589844 sec\n",
            "\n",
            "Epoch 46 Batch 0 Loss 0.0040\n",
            "Epoch 46 Batch 100 Loss 0.0066\n",
            "Epoch 46 Batch 200 Loss 0.0061\n",
            "Epoch 46 Batch 300 Loss 0.0230\n",
            "Epoch 46 Batch 400 Loss 0.0189\n",
            "Epoch 46 Batch 500 Loss 0.0047\n",
            "Epoch 46 Batch 600 Loss 0.0098\n",
            "Epoch 46 Batch 700 Loss 0.0157\n",
            "Epoch 46 Batch 800 Loss 0.0206\n",
            "Epoch 46 Batch 900 Loss 0.0105\n",
            "Epoch 46 Batch 1000 Loss 0.0304\n",
            "Epoch 46 Batch 1100 Loss 0.0139\n",
            "Epoch 46 Batch 1200 Loss 0.0214\n",
            "\n",
            "Epoch 46 Loss 0.0111\n",
            "Time taken for 1 epoch 410.00997591018677 sec\n",
            "\n",
            "Epoch 47 Batch 0 Loss 0.0110\n",
            "Epoch 47 Batch 100 Loss 0.0092\n",
            "Epoch 47 Batch 200 Loss 0.0116\n",
            "Epoch 47 Batch 300 Loss 0.0189\n",
            "Epoch 47 Batch 400 Loss 0.0110\n",
            "Epoch 47 Batch 500 Loss 0.0133\n",
            "Epoch 47 Batch 600 Loss 0.0038\n",
            "Epoch 47 Batch 700 Loss 0.0156\n",
            "Epoch 47 Batch 800 Loss 0.0081\n",
            "Epoch 47 Batch 900 Loss 0.0041\n",
            "Epoch 47 Batch 1000 Loss 0.0111\n",
            "Epoch 47 Batch 1100 Loss 0.0061\n",
            "Epoch 47 Batch 1200 Loss 0.0102\n",
            "Epoch 47 Loss 0.0115\n",
            "Time taken for 1 epoch 414.6509521007538 sec\n",
            "\n",
            "Epoch 48 Batch 0 Loss 0.0077\n",
            "Epoch 48 Batch 100 Loss 0.0014\n",
            "Epoch 48 Batch 200 Loss 0.0101\n",
            "Epoch 48 Batch 300 Loss 0.0033\n",
            "Epoch 48 Batch 400 Loss 0.0089\n",
            "Epoch 48 Batch 500 Loss 0.0192\n",
            "Epoch 48 Batch 600 Loss 0.0061\n",
            "Epoch 48 Batch 700 Loss 0.0016\n",
            "Epoch 48 Batch 800 Loss 0.0069\n",
            "Epoch 48 Batch 900 Loss 0.0128\n",
            "Epoch 48 Batch 1000 Loss 0.0176\n",
            "Epoch 48 Batch 1100 Loss 0.0122\n",
            "Epoch 48 Batch 1200 Loss 0.0184\n",
            "\n",
            "Epoch 48 Loss 0.0111\n",
            "Time taken for 1 epoch 411.994775056839 sec\n",
            "\n",
            "Epoch 49 Batch 0 Loss 0.0070\n",
            "Epoch 49 Batch 100 Loss 0.0025\n",
            "Epoch 49 Batch 200 Loss 0.0336\n",
            "Epoch 49 Batch 300 Loss 0.0137\n",
            "Epoch 49 Batch 400 Loss 0.0045\n",
            "Epoch 49 Batch 500 Loss 0.0087\n",
            "Epoch 49 Batch 600 Loss 0.0187\n",
            "Epoch 49 Batch 700 Loss 0.0184\n",
            "Epoch 49 Batch 800 Loss 0.0044\n",
            "Epoch 49 Batch 900 Loss 0.0098\n",
            "Epoch 49 Batch 1000 Loss 0.0014\n",
            "Epoch 49 Batch 1100 Loss 0.0096\n",
            "Epoch 49 Batch 1200 Loss 0.0239\n",
            "Epoch 49 Loss 0.0110\n",
            "Time taken for 1 epoch 413.01576232910156 sec\n",
            "\n",
            "Epoch 50 Batch 0 Loss 0.0080\n",
            "Epoch 50 Batch 100 Loss 0.0094\n",
            "Epoch 50 Batch 200 Loss 0.0068\n",
            "Epoch 50 Batch 300 Loss 0.0145\n",
            "Epoch 50 Batch 400 Loss 0.0025\n",
            "Epoch 50 Batch 500 Loss 0.0042\n",
            "Epoch 50 Batch 600 Loss 0.0102\n",
            "Epoch 50 Batch 700 Loss 0.0047\n",
            "Epoch 50 Batch 800 Loss 0.0150\n"
          ],
          "name": "stdout"
        }
      ]
    },
    {
      "cell_type": "code",
      "metadata": {
        "id": "cecw4K_LsTDM",
        "colab_type": "code",
        "colab": {}
      },
      "source": [
        "def evaluate(sentence):\n",
        "  attention_plot = np.zeros((max_length_targ, max_length_inp))\n",
        "  sentence = preprocess_sentence(sentence)\n",
        "  print(type(inp_lang))\n",
        "  inputs = [inp_lang.word_index[i] for i in sentence.split(' ')]\n",
        "  inputs = tf.keras.preprocessing.sequence.pad_sequences([inputs], maxlen=max_length_inp, padding='post')\n",
        "  inputs = tf.convert_to_tensor(inputs)\n",
        "  result = ''\n",
        "  hidden = [tf.zeros((1, units))]\n",
        "  enc_out, enc_hidden = encoder(inputs, hidden)\n",
        "\n",
        "  dec_hidden = enc_hidden\n",
        "  dec_input = tf.expand_dims([targ_lang.word_index['<start>']], 0)\n",
        "\n",
        "  for t in range(max_length_targ):\n",
        "    predictions, dec_hidden, attention_weights = decoder(dec_input, dec_hidden, enc_out)\n",
        "    # storing the attention weights to plot later on\n",
        "    attention_weights = tf.reshape(attention_weights, (-1, ))\n",
        "    attention_plot[t] = attention_weights.numpy()\n",
        "    predicted_id = tf.argmax(predictions[0]).numpy()\n",
        "    result += targ_lang.index_word[predicted_id] + ' '\n",
        "    if targ_lang.index_word[predicted_id] == '<end>':\n",
        "      return result, sentence, attention_plot\n",
        "    # the predicted ID is fed back into the model\n",
        "    dec_input = tf.expand_dims([predicted_id], 0)\n",
        "  return result, sentence, attention_plot"
      ],
      "execution_count": 0,
      "outputs": []
    },
    {
      "cell_type": "code",
      "metadata": {
        "id": "Ts1cjs_AsaU-",
        "colab_type": "code",
        "colab": {}
      },
      "source": [
        "# function for plotting the attention weights\n",
        "def plot_attention(attention, sentence, predicted_sentence):\n",
        "  fig = plt.figure(figsize=(10,10))\n",
        "  ax = fig.add_subplot(1, 1, 1)\n",
        "  ax.matshow(attention, cmap='viridis')\n",
        "\n",
        "  fontdict = {'fontsize': 14}\n",
        "\n",
        "  ax.set_xticklabels([''] + sentence, fontdict=fontdict, rotation=90)\n",
        "  ax.set_yticklabels([''] + predicted_sentence, fontdict=fontdict)\n",
        "\n",
        "  ax.xaxis.set_major_locator(ticker.MultipleLocator(1))\n",
        "  ax.yaxis.set_major_locator(ticker.MultipleLocator(1))\n",
        "\n",
        "  plt.show()"
      ],
      "execution_count": 0,
      "outputs": []
    },
    {
      "cell_type": "code",
      "metadata": {
        "id": "jOrrQArDscOo",
        "colab_type": "code",
        "colab": {}
      },
      "source": [
        "def translate(sentence):\n",
        "  result, sentence, attention_plot = evaluate(sentence)\n",
        "\n",
        "  print('Input: %s' % (sentence))\n",
        "  print('Predicted translation: {}'.format(result))\n",
        "\n",
        "  # attention_plot = attention_plot[:len(result.split(' ')), :len(sentence.split(' '))]\n",
        "  # plot_attention(attention_plot, sentence.split(' '), result.split(' '))"
      ],
      "execution_count": 0,
      "outputs": []
    },
    {
      "cell_type": "code",
      "metadata": {
        "id": "gPK6r_T7scTI",
        "colab_type": "code",
        "outputId": "359f6e9e-d089-405c-a71d-c4a44af1db59",
        "colab": {
          "base_uri": "https://localhost:8080/",
          "height": 34
        }
      },
      "source": [
        "# restoring the latest checkpoint in checkpoint_dir\n",
        "checkpoint.restore(tf.train.latest_checkpoint(checkpoint_dir))"
      ],
      "execution_count": 49,
      "outputs": [
        {
          "output_type": "execute_result",
          "data": {
            "text/plain": [
              "<tensorflow.python.training.tracking.util.CheckpointLoadStatus at 0x7f74000bb160>"
            ]
          },
          "metadata": {
            "tags": []
          },
          "execution_count": 49
        }
      ]
    },
    {
      "cell_type": "code",
      "metadata": {
        "id": "HGEMSByJscLp",
        "colab_type": "code",
        "outputId": "7754fdba-2cf4-4109-f697-4adbf713b3aa",
        "colab": {
          "base_uri": "https://localhost:8080/",
          "height": 85
        }
      },
      "source": [
        "question = 'where are you from'\n",
        "print(translate(question))"
      ],
      "execution_count": 52,
      "outputs": [
        {
          "output_type": "stream",
          "text": [
            "<class 'keras_preprocessing.text.Tokenizer'>\n",
            "Input: <start> where are you from <end>\n",
            "Predicted translation: i am not sure <end> \n",
            "None\n"
          ],
          "name": "stdout"
        }
      ]
    },
    {
      "cell_type": "code",
      "metadata": {
        "id": "yjg2mAkn-1lb",
        "colab_type": "code",
        "colab": {
          "base_uri": "https://localhost:8080/",
          "height": 85
        },
        "outputId": "5ad32fdf-a7b7-4f0b-e623-b1c33ba1e0bc"
      },
      "source": [
        "question = 'hi'\n",
        "print(translate(question))"
      ],
      "execution_count": 54,
      "outputs": [
        {
          "output_type": "stream",
          "text": [
            "<class 'keras_preprocessing.text.Tokenizer'>\n",
            "Input: <start> hi <end>\n",
            "Predicted translation: hi bill is it <end> \n",
            "None\n"
          ],
          "name": "stdout"
        }
      ]
    },
    {
      "cell_type": "code",
      "metadata": {
        "id": "KpoOdvtA-8rR",
        "colab_type": "code",
        "colab": {
          "base_uri": "https://localhost:8080/",
          "height": 85
        },
        "outputId": "857c08f9-01a3-4ca3-c1b7-ea134fe64ed1"
      },
      "source": [
        "question = 'what can I help you'\n",
        "print(translate(question))"
      ],
      "execution_count": 55,
      "outputs": [
        {
          "output_type": "stream",
          "text": [
            "<class 'keras_preprocessing.text.Tokenizer'>\n",
            "Input: <start> what can i help you <end>\n",
            "Predicted translation: i want my hair cut <end> \n",
            "None\n"
          ],
          "name": "stdout"
        }
      ]
    },
    {
      "cell_type": "code",
      "metadata": {
        "id": "XER9sO5T_mBG",
        "colab_type": "code",
        "colab": {
          "base_uri": "https://localhost:8080/",
          "height": 85
        },
        "outputId": "e9a9f86d-6256-4c4c-b05d-e90c58b00ce4"
      },
      "source": [
        "question = 'may I help you'\n",
        "print(translate(question))"
      ],
      "execution_count": 56,
      "outputs": [
        {
          "output_type": "stream",
          "text": [
            "<class 'keras_preprocessing.text.Tokenizer'>\n",
            "Input: <start> may i help you <end>\n",
            "Predicted translation: yes fill it up please <end> \n",
            "None\n"
          ],
          "name": "stdout"
        }
      ]
    },
    {
      "cell_type": "code",
      "metadata": {
        "id": "70GIS-zz_qB1",
        "colab_type": "code",
        "colab": {
          "base_uri": "https://localhost:8080/",
          "height": 85
        },
        "outputId": "bb8c037d-6371-4e2f-957a-04d7df45494e"
      },
      "source": [
        "question = 'what do you think about coffee'\n",
        "print(translate(question))"
      ],
      "execution_count": 58,
      "outputs": [
        {
          "output_type": "stream",
          "text": [
            "<class 'keras_preprocessing.text.Tokenizer'>\n",
            "Input: <start> what do you think about coffee <end>\n",
            "Predicted translation: it looks great <end> \n",
            "None\n"
          ],
          "name": "stdout"
        }
      ]
    },
    {
      "cell_type": "code",
      "metadata": {
        "id": "mshKchhmALe_",
        "colab_type": "code",
        "colab": {
          "base_uri": "https://localhost:8080/",
          "height": 85
        },
        "outputId": "7e613210-e278-4cfc-8f4d-e6f6bcc6be1e"
      },
      "source": [
        "question = 'what do you think about the car'\n",
        "print(translate(question))"
      ],
      "execution_count": 60,
      "outputs": [
        {
          "output_type": "stream",
          "text": [
            "<class 'keras_preprocessing.text.Tokenizer'>\n",
            "Input: <start> what do you think about the car <end>\n",
            "Predicted translation: it s extremely expensive <end> \n",
            "None\n"
          ],
          "name": "stdout"
        }
      ]
    },
    {
      "cell_type": "code",
      "metadata": {
        "id": "ZttXCzvfAfv3",
        "colab_type": "code",
        "colab": {
          "base_uri": "https://localhost:8080/",
          "height": 85
        },
        "outputId": "c0ff439a-2637-493a-b53e-b4cfea2f22ec"
      },
      "source": [
        "question = 'do you like this short'\n",
        "print(translate(question))"
      ],
      "execution_count": 64,
      "outputs": [
        {
          "output_type": "stream",
          "text": [
            "<class 'keras_preprocessing.text.Tokenizer'>\n",
            "Input: <start> do you like this short <end>\n",
            "Predicted translation: yes how much is it <end> \n",
            "None\n"
          ],
          "name": "stdout"
        }
      ]
    },
    {
      "cell_type": "code",
      "metadata": {
        "id": "0VUbdLZVAq5e",
        "colab_type": "code",
        "colab": {
          "base_uri": "https://localhost:8080/",
          "height": 85
        },
        "outputId": "a730fd37-3701-46f3-92e0-8b4b8605f9a3"
      },
      "source": [
        "question = 'Can you sing a song'\n",
        "print(translate(question))"
      ],
      "execution_count": 66,
      "outputs": [
        {
          "output_type": "stream",
          "text": [
            "<class 'keras_preprocessing.text.Tokenizer'>\n",
            "Input: <start> can you sing a song <end>\n",
            "Predicted translation: sure what style do you need <end> \n",
            "None\n"
          ],
          "name": "stdout"
        }
      ]
    },
    {
      "cell_type": "code",
      "metadata": {
        "id": "pQ1lr13XA78u",
        "colab_type": "code",
        "colab": {
          "base_uri": "https://localhost:8080/",
          "height": 85
        },
        "outputId": "88ca9e4c-9c34-4f2e-da25-88695e98ed35"
      },
      "source": [
        "question = 'I prefer a classic music'\n",
        "print(translate(question))"
      ],
      "execution_count": 68,
      "outputs": [
        {
          "output_type": "stream",
          "text": [
            "<class 'keras_preprocessing.text.Tokenizer'>\n",
            "Input: <start> i prefer a classic music <end>\n",
            "Predicted translation: it is not easy i am driving which is the problem <end> \n",
            "None\n"
          ],
          "name": "stdout"
        }
      ]
    },
    {
      "cell_type": "code",
      "metadata": {
        "id": "b6X7bF1tBYs4",
        "colab_type": "code",
        "colab": {
          "base_uri": "https://localhost:8080/",
          "height": 85
        },
        "outputId": "0b462b52-d37f-4a6a-9a3b-4c8c0a3ba5ac"
      },
      "source": [
        "question = 'Thank you'\n",
        "print(translate(question))"
      ],
      "execution_count": 72,
      "outputs": [
        {
          "output_type": "stream",
          "text": [
            "<class 'keras_preprocessing.text.Tokenizer'>\n",
            "Input: <start> thank you <end>\n",
            "Predicted translation: you are welcome please come again <end> \n",
            "None\n"
          ],
          "name": "stdout"
        }
      ]
    }
  ]
}